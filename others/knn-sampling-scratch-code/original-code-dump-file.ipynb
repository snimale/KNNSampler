{
  "nbformat": 4,
  "nbformat_minor": 0,
  "metadata": {
    "colab": {
      "provenance": [],
      "collapsed_sections": [
        "VNAISkwytGbs",
        "oHWMjc7uciQN",
        "GePdnlLncaIt",
        "oo4yvg4HcdbO",
        "_8m-633qq7nH"
      ]
    },
    "kernelspec": {
      "name": "python3",
      "display_name": "Python 3"
    },
    "language_info": {
      "name": "python"
    }
  },
  "cells": [
    {
      "cell_type": "markdown",
      "source": [
        "# Implementation of k-NN Sampling for Visualization of Dynamic data using LION-tSNE"
      ],
      "metadata": {
        "id": "soVtFQLZjyDr"
      }
    },
    {
      "cell_type": "markdown",
      "source": [
        "Issue with research paper algorithm:<br>\n",
        "1) MNN_score is calculated after every iteration for entire dataset which is unnecessary, hence it have been changed to get optimized results<br><br>\n",
        "2) Error in line: train sample = train sample ∪ X[index], should be X[train_index] <br><br>\n",
        "3) Until loop is wrong in logic: (NN − score(X) = 0) ∨ (| train sample |≤ k); the second condition should be |X| <= k, as per the text in research paper -> highlighted for same. <br><br>\n",
        "4) Values of t, m, s for (t,m,s)-nets were not provided in the paper"
      ],
      "metadata": {
        "id": "ZJSRhw8OZV_8"
      }
    },
    {
      "cell_type": "markdown",
      "source": [
        "### Imports, functions & Setup"
      ],
      "metadata": {
        "id": "5kKqHBVdlrnC"
      }
    },
    {
      "cell_type": "markdown",
      "source": [
        "#### Imports"
      ],
      "metadata": {
        "id": "J7ZZEJF9luyS"
      }
    },
    {
      "cell_type": "code",
      "source": [
        "import numpy as np\n",
        "import pandas as pd\n",
        "from sklearn.neighbors import NearestNeighbors\n",
        "from sklearn.manifold import TSNE\n",
        "from sklearn.datasets import fetch_openml\n",
        "import matplotlib.pyplot as plt\n",
        "from sklearn.cluster import KMeans\n",
        "\n",
        "\n",
        "# test & debug\n",
        "from sklearn.datasets import load_breast_cancer"
      ],
      "metadata": {
        "id": "FKtiFFwNluRz"
      },
      "execution_count": 1,
      "outputs": []
    },
    {
      "cell_type": "markdown",
      "source": [
        "#### k nearest neighbors sampling"
      ],
      "metadata": {
        "id": "lKhTsEXrkj7L"
      }
    },
    {
      "cell_type": "code",
      "source": [
        "# custom function to get nn_scores, for both dynamic and static KNN-Graphs\n",
        "def get_nn_scores(graph, df):\n",
        "  # print(graph.shape)\n",
        "  nn_scores = np.zeros(graph.shape[0], dtype=int)\n",
        "  # invalid nn_scores initialize by -1\n",
        "  nn_scores.fill(-1)\n",
        "  # valid nn_scores initialize by 0\n",
        "  for i in range(df.shape[0]):\n",
        "    nn_scores[df.index[i]]=0\n",
        "  for i in range(df.shape[0]):\n",
        "    for j in range(graph.shape[1]):\n",
        "      if nn_scores[graph[df.index[i]][j]]==-1:\n",
        "        continue\n",
        "      else:\n",
        "        nn_scores[graph[df.index[i]][j]] += 1\n",
        "  # print(\"get_nn_scores ran successfully\")\n",
        "  return nn_scores"
      ],
      "metadata": {
        "id": "8W5AW9mqkqD1"
      },
      "execution_count": 2,
      "outputs": []
    },
    {
      "cell_type": "code",
      "source": [
        "# given an array a, returns a list of indices of all occurances of max_value(a) in a, empty if no elements, ignores -1 elements\n",
        "def get_max_occurance_indices(a):\n",
        "    if len(a) == 0:\n",
        "        return []\n",
        "    max_list = [0]\n",
        "    max_element = a[0]\n",
        "    has_valid_element = False\n",
        "    for i in range(len(a)):\n",
        "      if a[i]!=-1:\n",
        "        # is valud\n",
        "        has_valid_element = True\n",
        "        max_element = a[i]\n",
        "        max_list[0] = i\n",
        "        break\n",
        "\n",
        "    for i in range(1, len(a)):\n",
        "      if a[i] == -1:\n",
        "        continue\n",
        "      elif a[i] > max_element:\n",
        "        max_list = [i]\n",
        "        max_element = a[i]\n",
        "      elif a[i] == max_element:\n",
        "        max_list.append(i)\n",
        "    return max_list"
      ],
      "metadata": {
        "id": "vZe-Qes0sMke"
      },
      "execution_count": 3,
      "outputs": []
    },
    {
      "cell_type": "code",
      "source": [
        "# rather than calculating mnn_score for the entire dataset as proposed in the paper, we calculate only for the ones needed\n",
        "def get_max_mnn_score_indices(graph, index):\n",
        "  mnn_scores = np.zeros(len(index))\n",
        "\n",
        "  # calculate mnn_scores of Xi for i in index\n",
        "  for i in range(len(index)):\n",
        "    for j in range(graph.shape[1]):\n",
        "      if np.isin(index[i], graph[graph[index[i]][j]]):\n",
        "        # add only to one of mutual neighbors to avoid + 2 if 2/more mutual neighbors exits in index array itself\n",
        "        mnn_scores[i] += 1\n",
        "  # print(mnn_scores)\n",
        "\n",
        "  max_mnn_scores_indices = get_max_occurance_indices(mnn_scores)\n",
        "  for i in range(len(max_mnn_scores_indices)):\n",
        "    max_mnn_scores_indices[i] = index[max_mnn_scores_indices[i]]\n",
        "  return max_mnn_scores_indices"
      ],
      "metadata": {
        "id": "sxSvD4-VDLIa"
      },
      "execution_count": 4,
      "outputs": []
    },
    {
      "cell_type": "code",
      "source": [
        "# util function for algorithm\n",
        "def get_row_indices_to_delete(graph, index):\n",
        "  # use set to avoid repition of index\n",
        "  row_indices = set()\n",
        "  # add mutual neighbors\n",
        "  for i in range(len(index)):\n",
        "    for j in range(graph.shape[1]):\n",
        "      if np.isin(index[i], graph[graph[index[i]][j]]):\n",
        "        row_indices.add(graph[index[i]][j])\n",
        "  # add current index elements\n",
        "  for i in range(len(index)):\n",
        "    row_indices.add(index[i])\n",
        "\n",
        "  return row_indices"
      ],
      "metadata": {
        "id": "FUWnEn9RVNr-"
      },
      "execution_count": 5,
      "outputs": []
    },
    {
      "cell_type": "code",
      "source": [
        "# util function for algorithm\n",
        "def all_elements_zeros(nn_scores, df):\n",
        "  all_zeros = True\n",
        "  for i in range(df.shape[0]):\n",
        "    if nn_scores[df.index[i]] != 0 and nn_scores[df.index[i]] != -1 :\n",
        "      all_zeros = False\n",
        "  return all_zeros"
      ],
      "metadata": {
        "id": "XQf1XI_CbzRK"
      },
      "execution_count": 6,
      "outputs": []
    },
    {
      "cell_type": "code",
      "source": [
        "# util function for algorithm, uses tms-nets to select representatives from the remaining rows in the dataset\n",
        "def tms_nets_selection(t, m, s, df):\n",
        "    # Calculate rows per subset\n",
        "    rows_per_subset = len(df) // m\n",
        "    # Initialize the selected rows list\n",
        "    selected_rows = []\n",
        "\n",
        "    for i in range(m):\n",
        "        if i == m - 1:\n",
        "            # For the last subset, select remaining rows\n",
        "            selected_rows.extend(df.sample(t - len(selected_rows)).index)\n",
        "        else:\n",
        "            # Select the first row randomly\n",
        "            if not selected_rows:\n",
        "                selected_rows.append(np.random.choice(df.index))\n",
        "            while len(selected_rows) < t:\n",
        "                # Calculate distances to selected rows\n",
        "                distances = df.drop(selected_rows).apply(lambda row: np.min(df.iloc[selected_rows].apply(lambda x: np.linalg.norm(row - x), axis=1)), axis=1)\n",
        "                # Select the row with the maximum distance while considering the minimum distance (s)\n",
        "                max_dist_row = distances[distances >= s].idxmax()\n",
        "                selected_rows.append(max_dist_row)\n",
        "\n",
        "    # Get the selected rows from the DataFrame\n",
        "    selected_data = df.loc[selected_rows]\n",
        "    return selected_data"
      ],
      "metadata": {
        "id": "qBndDEVOjOYm"
      },
      "execution_count": 7,
      "outputs": []
    },
    {
      "cell_type": "code",
      "execution_count": 9,
      "metadata": {
        "id": "L6BCJ--Jjd4B"
      },
      "outputs": [],
      "source": [
        "# main algorithm for the paper\n",
        "# Important X must have last column as index column for proper mapping\n",
        "def knn_sampling(X, k=5, dynamic_sampling=True, algorithm='auto', tms=(3, 1, 2)):\n",
        "  df = X.copy()\n",
        "  train_samples = pd.DataFrame(columns=df.columns[:-1])\n",
        "  # k + 1 neighbors because 0th neighbor is itself, not used in knn_sampling\n",
        "  knn_graph = NearestNeighbors(n_neighbors = k + 1, algorithm=algorithm).fit(df.iloc[:, :-1])\n",
        "  knn_distances_matrix, knn_adjacency_matrix = knn_graph.kneighbors(df.iloc[:, :-1])\n",
        "\n",
        "  # remove self neighbor column (col. number 0)\n",
        "  knn_distances_matrix = knn_distances_matrix[:, 1:]\n",
        "  knn_adjacency_matrix = knn_adjacency_matrix[:, 1:]\n",
        "\n",
        "  # unlike the research paper, we do not calculate mnn_scores for the entire dataset to avoid redundunt space and time complexity increment, rather we use the get_max_mnn_score_indices function for the same\n",
        "  # mnn_scores = np.zeros(len(knn_adjacency_matrix), dtype=int)\n",
        "\n",
        "  while df.shape[0]>k: # other condition is written in break form\n",
        "    nn_scores = get_nn_scores(knn_adjacency_matrix, df)\n",
        "    if(all_elements_zeros(nn_scores, df)):\n",
        "      # print(\"debug: all elements zeros in nn_score\")\n",
        "      break;\n",
        "    # no need of mnn_scores of complete dataset\n",
        "\n",
        "    # choose train_samples indices from X\n",
        "    index = get_max_occurance_indices(nn_scores)\n",
        "    # print(\"get_nn_scores ran successfully\")\n",
        "    train_index = list()\n",
        "    if len(index) > 1:\n",
        "      train_index = train_index + get_max_mnn_score_indices(knn_adjacency_matrix, index)\n",
        "    else:\n",
        "      train_index = train_index + index\n",
        "\n",
        "    # append train_samples\n",
        "    for i in range(len(train_index)):\n",
        "      train_samples = pd.concat([train_samples, df.loc[[train_index[i]]]], ignore_index=True)\n",
        "\n",
        "    # remove selected indices and their mutual neighbours from X\n",
        "    row_to_delete = get_row_indices_to_delete(knn_adjacency_matrix, train_index)\n",
        "    # sprint(row_to_delete)\n",
        "    try:\n",
        "      df.drop(row_to_delete, inplace=True)\n",
        "    except KeyError as ke:\n",
        "      print(\"Warning Trying to delete Key that do not exist\", ke.args[0])\n",
        "      df.drop(row_to_delete, inplace=True, errors='ignore')\n",
        "\n",
        "    if df.shape[0] <= k:\n",
        "      # print(\"debug: df shape[0] < k\")\n",
        "      # This is very important to avoid (0) len array exception in NearestNeighbors\n",
        "      break;\n",
        "\n",
        "    # re-create KNN-graph if needed\n",
        "    if dynamic_sampling == True:\n",
        "      # print(\"KNN-Graph-Updated\")\n",
        "      df.reset_index(inplace=True, drop=True)\n",
        "      knn_graph = NearestNeighbors(n_neighbors = k + 1, algorithm=algorithm).fit(df.iloc[:, :-1])\n",
        "      knn_distances_matrix, knn_adjacency_matrix = knn_graph.kneighbors(df.iloc[:, :-1])\n",
        "      knn_distances_matrix = knn_distances_matrix[:, 1:]\n",
        "      knn_adjacency_matrix = knn_adjacency_matrix[:, 1:]\n",
        "    # print(train_samples)\n",
        "  if df.shape[0] != 0:\n",
        "    # print(df.shape[0])\n",
        "    # print(\"Adding Left Over Rows Representatives\")\n",
        "    train_samples = pd.concat([train_samples, tms_nets_selection(tms[0], tms[1], tms[2], df)], ignore_index=True)\n",
        "  return train_samples"
      ]
    },
    {
      "cell_type": "code",
      "source": [
        "# used for dimension reduction for visualization\n",
        "def get_embeddings_BH_tNSE(df, n_components=2, init_solution='random', random_state=0, perplexity=5):\n",
        "  tsne = TSNE(n_components=n_components, method='barnes_hut', init=init_solution, random_state=random_state)\n",
        "  train_sample_embedded = tsne.fit_transform(df)\n",
        "  return train_sample_embedded"
      ],
      "metadata": {
        "id": "yG3ARBZjrD8X"
      },
      "execution_count": 11,
      "outputs": []
    },
    {
      "cell_type": "markdown",
      "source": [
        "## Testing and Debugging"
      ],
      "metadata": {
        "id": "28OzwRDvtBC1"
      }
    },
    {
      "cell_type": "markdown",
      "source": [
        "#### k nearest neighbors sampling"
      ],
      "metadata": {
        "id": "VNAISkwytGbs"
      }
    },
    {
      "cell_type": "markdown",
      "source": [
        "##### Dataset 1"
      ],
      "metadata": {
        "id": "oHWMjc7uciQN"
      }
    },
    {
      "cell_type": "code",
      "source": [
        "mnist = fetch_openml('mnist_784', version=1)\n",
        "\n",
        "# Convert labels to integers\n",
        "mnist.target = mnist.target.astype(int)"
      ],
      "metadata": {
        "colab": {
          "base_uri": "https://localhost:8080/"
        },
        "id": "E_yskZaPdxCG",
        "outputId": "46736015-9017-4f0e-fb7f-31255f98a530"
      },
      "execution_count": 292,
      "outputs": [
        {
          "output_type": "stream",
          "name": "stderr",
          "text": [
            "/usr/local/lib/python3.10/dist-packages/sklearn/datasets/_openml.py:968: FutureWarning: The default value of `parser` will change from `'liac-arff'` to `'auto'` in 1.4. You can set `parser='auto'` to silence this warning. Therefore, an `ImportError` will be raised from 1.4 if the dataset is dense and pandas is not installed. Note that the pandas parser may return different data types. See the Notes Section in fetch_openml's API doc for details.\n",
            "  warn(\n"
          ]
        }
      ]
    },
    {
      "cell_type": "code",
      "source": [
        "X = mnist.data.iloc[:10000, :]\n",
        "y = mnist.target[:10000].tolist()\n",
        "X['idx'] = X.index"
      ],
      "metadata": {
        "colab": {
          "base_uri": "https://localhost:8080/"
        },
        "id": "Odv3w1Hpflz_",
        "outputId": "c471afaa-9cbd-4dd7-cd10-2e60acb48086"
      },
      "execution_count": 293,
      "outputs": [
        {
          "output_type": "stream",
          "name": "stderr",
          "text": [
            "<ipython-input-293-8d20b5c71b0e>:3: SettingWithCopyWarning: \n",
            "A value is trying to be set on a copy of a slice from a DataFrame.\n",
            "Try using .loc[row_indexer,col_indexer] = value instead\n",
            "\n",
            "See the caveats in the documentation: https://pandas.pydata.org/pandas-docs/stable/user_guide/indexing.html#returning-a-view-versus-a-copy\n",
            "  X['idx'] = X.index\n"
          ]
        }
      ]
    },
    {
      "cell_type": "code",
      "source": [
        "X.head(5)"
      ],
      "metadata": {
        "colab": {
          "base_uri": "https://localhost:8080/",
          "height": 235
        },
        "id": "WSn2oMM9fxmP",
        "outputId": "09b7330b-7557-4440-df92-6818089b3cff"
      },
      "execution_count": 294,
      "outputs": [
        {
          "output_type": "execute_result",
          "data": {
            "text/plain": [
              "   pixel1  pixel2  pixel3  pixel4  pixel5  pixel6  pixel7  pixel8  pixel9  \\\n",
              "0     0.0     0.0     0.0     0.0     0.0     0.0     0.0     0.0     0.0   \n",
              "1     0.0     0.0     0.0     0.0     0.0     0.0     0.0     0.0     0.0   \n",
              "2     0.0     0.0     0.0     0.0     0.0     0.0     0.0     0.0     0.0   \n",
              "3     0.0     0.0     0.0     0.0     0.0     0.0     0.0     0.0     0.0   \n",
              "4     0.0     0.0     0.0     0.0     0.0     0.0     0.0     0.0     0.0   \n",
              "\n",
              "   pixel10  ...  pixel776  pixel777  pixel778  pixel779  pixel780  pixel781  \\\n",
              "0      0.0  ...       0.0       0.0       0.0       0.0       0.0       0.0   \n",
              "1      0.0  ...       0.0       0.0       0.0       0.0       0.0       0.0   \n",
              "2      0.0  ...       0.0       0.0       0.0       0.0       0.0       0.0   \n",
              "3      0.0  ...       0.0       0.0       0.0       0.0       0.0       0.0   \n",
              "4      0.0  ...       0.0       0.0       0.0       0.0       0.0       0.0   \n",
              "\n",
              "   pixel782  pixel783  pixel784  idx  \n",
              "0       0.0       0.0       0.0    0  \n",
              "1       0.0       0.0       0.0    1  \n",
              "2       0.0       0.0       0.0    2  \n",
              "3       0.0       0.0       0.0    3  \n",
              "4       0.0       0.0       0.0    4  \n",
              "\n",
              "[5 rows x 785 columns]"
            ],
            "text/html": [
              "\n",
              "  <div id=\"df-36988143-c8c0-4c2e-812d-e1ed264455a4\" class=\"colab-df-container\">\n",
              "    <div>\n",
              "<style scoped>\n",
              "    .dataframe tbody tr th:only-of-type {\n",
              "        vertical-align: middle;\n",
              "    }\n",
              "\n",
              "    .dataframe tbody tr th {\n",
              "        vertical-align: top;\n",
              "    }\n",
              "\n",
              "    .dataframe thead th {\n",
              "        text-align: right;\n",
              "    }\n",
              "</style>\n",
              "<table border=\"1\" class=\"dataframe\">\n",
              "  <thead>\n",
              "    <tr style=\"text-align: right;\">\n",
              "      <th></th>\n",
              "      <th>pixel1</th>\n",
              "      <th>pixel2</th>\n",
              "      <th>pixel3</th>\n",
              "      <th>pixel4</th>\n",
              "      <th>pixel5</th>\n",
              "      <th>pixel6</th>\n",
              "      <th>pixel7</th>\n",
              "      <th>pixel8</th>\n",
              "      <th>pixel9</th>\n",
              "      <th>pixel10</th>\n",
              "      <th>...</th>\n",
              "      <th>pixel776</th>\n",
              "      <th>pixel777</th>\n",
              "      <th>pixel778</th>\n",
              "      <th>pixel779</th>\n",
              "      <th>pixel780</th>\n",
              "      <th>pixel781</th>\n",
              "      <th>pixel782</th>\n",
              "      <th>pixel783</th>\n",
              "      <th>pixel784</th>\n",
              "      <th>idx</th>\n",
              "    </tr>\n",
              "  </thead>\n",
              "  <tbody>\n",
              "    <tr>\n",
              "      <th>0</th>\n",
              "      <td>0.0</td>\n",
              "      <td>0.0</td>\n",
              "      <td>0.0</td>\n",
              "      <td>0.0</td>\n",
              "      <td>0.0</td>\n",
              "      <td>0.0</td>\n",
              "      <td>0.0</td>\n",
              "      <td>0.0</td>\n",
              "      <td>0.0</td>\n",
              "      <td>0.0</td>\n",
              "      <td>...</td>\n",
              "      <td>0.0</td>\n",
              "      <td>0.0</td>\n",
              "      <td>0.0</td>\n",
              "      <td>0.0</td>\n",
              "      <td>0.0</td>\n",
              "      <td>0.0</td>\n",
              "      <td>0.0</td>\n",
              "      <td>0.0</td>\n",
              "      <td>0.0</td>\n",
              "      <td>0</td>\n",
              "    </tr>\n",
              "    <tr>\n",
              "      <th>1</th>\n",
              "      <td>0.0</td>\n",
              "      <td>0.0</td>\n",
              "      <td>0.0</td>\n",
              "      <td>0.0</td>\n",
              "      <td>0.0</td>\n",
              "      <td>0.0</td>\n",
              "      <td>0.0</td>\n",
              "      <td>0.0</td>\n",
              "      <td>0.0</td>\n",
              "      <td>0.0</td>\n",
              "      <td>...</td>\n",
              "      <td>0.0</td>\n",
              "      <td>0.0</td>\n",
              "      <td>0.0</td>\n",
              "      <td>0.0</td>\n",
              "      <td>0.0</td>\n",
              "      <td>0.0</td>\n",
              "      <td>0.0</td>\n",
              "      <td>0.0</td>\n",
              "      <td>0.0</td>\n",
              "      <td>1</td>\n",
              "    </tr>\n",
              "    <tr>\n",
              "      <th>2</th>\n",
              "      <td>0.0</td>\n",
              "      <td>0.0</td>\n",
              "      <td>0.0</td>\n",
              "      <td>0.0</td>\n",
              "      <td>0.0</td>\n",
              "      <td>0.0</td>\n",
              "      <td>0.0</td>\n",
              "      <td>0.0</td>\n",
              "      <td>0.0</td>\n",
              "      <td>0.0</td>\n",
              "      <td>...</td>\n",
              "      <td>0.0</td>\n",
              "      <td>0.0</td>\n",
              "      <td>0.0</td>\n",
              "      <td>0.0</td>\n",
              "      <td>0.0</td>\n",
              "      <td>0.0</td>\n",
              "      <td>0.0</td>\n",
              "      <td>0.0</td>\n",
              "      <td>0.0</td>\n",
              "      <td>2</td>\n",
              "    </tr>\n",
              "    <tr>\n",
              "      <th>3</th>\n",
              "      <td>0.0</td>\n",
              "      <td>0.0</td>\n",
              "      <td>0.0</td>\n",
              "      <td>0.0</td>\n",
              "      <td>0.0</td>\n",
              "      <td>0.0</td>\n",
              "      <td>0.0</td>\n",
              "      <td>0.0</td>\n",
              "      <td>0.0</td>\n",
              "      <td>0.0</td>\n",
              "      <td>...</td>\n",
              "      <td>0.0</td>\n",
              "      <td>0.0</td>\n",
              "      <td>0.0</td>\n",
              "      <td>0.0</td>\n",
              "      <td>0.0</td>\n",
              "      <td>0.0</td>\n",
              "      <td>0.0</td>\n",
              "      <td>0.0</td>\n",
              "      <td>0.0</td>\n",
              "      <td>3</td>\n",
              "    </tr>\n",
              "    <tr>\n",
              "      <th>4</th>\n",
              "      <td>0.0</td>\n",
              "      <td>0.0</td>\n",
              "      <td>0.0</td>\n",
              "      <td>0.0</td>\n",
              "      <td>0.0</td>\n",
              "      <td>0.0</td>\n",
              "      <td>0.0</td>\n",
              "      <td>0.0</td>\n",
              "      <td>0.0</td>\n",
              "      <td>0.0</td>\n",
              "      <td>...</td>\n",
              "      <td>0.0</td>\n",
              "      <td>0.0</td>\n",
              "      <td>0.0</td>\n",
              "      <td>0.0</td>\n",
              "      <td>0.0</td>\n",
              "      <td>0.0</td>\n",
              "      <td>0.0</td>\n",
              "      <td>0.0</td>\n",
              "      <td>0.0</td>\n",
              "      <td>4</td>\n",
              "    </tr>\n",
              "  </tbody>\n",
              "</table>\n",
              "<p>5 rows × 785 columns</p>\n",
              "</div>\n",
              "    <div class=\"colab-df-buttons\">\n",
              "\n",
              "  <div class=\"colab-df-container\">\n",
              "    <button class=\"colab-df-convert\" onclick=\"convertToInteractive('df-36988143-c8c0-4c2e-812d-e1ed264455a4')\"\n",
              "            title=\"Convert this dataframe to an interactive table.\"\n",
              "            style=\"display:none;\">\n",
              "\n",
              "  <svg xmlns=\"http://www.w3.org/2000/svg\" height=\"24px\" viewBox=\"0 -960 960 960\">\n",
              "    <path d=\"M120-120v-720h720v720H120Zm60-500h600v-160H180v160Zm220 220h160v-160H400v160Zm0 220h160v-160H400v160ZM180-400h160v-160H180v160Zm440 0h160v-160H620v160ZM180-180h160v-160H180v160Zm440 0h160v-160H620v160Z\"/>\n",
              "  </svg>\n",
              "    </button>\n",
              "\n",
              "  <style>\n",
              "    .colab-df-container {\n",
              "      display:flex;\n",
              "      gap: 12px;\n",
              "    }\n",
              "\n",
              "    .colab-df-convert {\n",
              "      background-color: #E8F0FE;\n",
              "      border: none;\n",
              "      border-radius: 50%;\n",
              "      cursor: pointer;\n",
              "      display: none;\n",
              "      fill: #1967D2;\n",
              "      height: 32px;\n",
              "      padding: 0 0 0 0;\n",
              "      width: 32px;\n",
              "    }\n",
              "\n",
              "    .colab-df-convert:hover {\n",
              "      background-color: #E2EBFA;\n",
              "      box-shadow: 0px 1px 2px rgba(60, 64, 67, 0.3), 0px 1px 3px 1px rgba(60, 64, 67, 0.15);\n",
              "      fill: #174EA6;\n",
              "    }\n",
              "\n",
              "    .colab-df-buttons div {\n",
              "      margin-bottom: 4px;\n",
              "    }\n",
              "\n",
              "    [theme=dark] .colab-df-convert {\n",
              "      background-color: #3B4455;\n",
              "      fill: #D2E3FC;\n",
              "    }\n",
              "\n",
              "    [theme=dark] .colab-df-convert:hover {\n",
              "      background-color: #434B5C;\n",
              "      box-shadow: 0px 1px 3px 1px rgba(0, 0, 0, 0.15);\n",
              "      filter: drop-shadow(0px 1px 2px rgba(0, 0, 0, 0.3));\n",
              "      fill: #FFFFFF;\n",
              "    }\n",
              "  </style>\n",
              "\n",
              "    <script>\n",
              "      const buttonEl =\n",
              "        document.querySelector('#df-36988143-c8c0-4c2e-812d-e1ed264455a4 button.colab-df-convert');\n",
              "      buttonEl.style.display =\n",
              "        google.colab.kernel.accessAllowed ? 'block' : 'none';\n",
              "\n",
              "      async function convertToInteractive(key) {\n",
              "        const element = document.querySelector('#df-36988143-c8c0-4c2e-812d-e1ed264455a4');\n",
              "        const dataTable =\n",
              "          await google.colab.kernel.invokeFunction('convertToInteractive',\n",
              "                                                    [key], {});\n",
              "        if (!dataTable) return;\n",
              "\n",
              "        const docLinkHtml = 'Like what you see? Visit the ' +\n",
              "          '<a target=\"_blank\" href=https://colab.research.google.com/notebooks/data_table.ipynb>data table notebook</a>'\n",
              "          + ' to learn more about interactive tables.';\n",
              "        element.innerHTML = '';\n",
              "        dataTable['output_type'] = 'display_data';\n",
              "        await google.colab.output.renderOutput(dataTable, element);\n",
              "        const docLink = document.createElement('div');\n",
              "        docLink.innerHTML = docLinkHtml;\n",
              "        element.appendChild(docLink);\n",
              "      }\n",
              "    </script>\n",
              "  </div>\n",
              "\n",
              "\n",
              "<div id=\"df-c35fe3a0-edb6-4706-863a-20910cadf7ea\">\n",
              "  <button class=\"colab-df-quickchart\" onclick=\"quickchart('df-c35fe3a0-edb6-4706-863a-20910cadf7ea')\"\n",
              "            title=\"Suggest charts.\"\n",
              "            style=\"display:none;\">\n",
              "\n",
              "<svg xmlns=\"http://www.w3.org/2000/svg\" height=\"24px\"viewBox=\"0 0 24 24\"\n",
              "     width=\"24px\">\n",
              "    <g>\n",
              "        <path d=\"M19 3H5c-1.1 0-2 .9-2 2v14c0 1.1.9 2 2 2h14c1.1 0 2-.9 2-2V5c0-1.1-.9-2-2-2zM9 17H7v-7h2v7zm4 0h-2V7h2v10zm4 0h-2v-4h2v4z\"/>\n",
              "    </g>\n",
              "</svg>\n",
              "  </button>\n",
              "\n",
              "<style>\n",
              "  .colab-df-quickchart {\n",
              "      --bg-color: #E8F0FE;\n",
              "      --fill-color: #1967D2;\n",
              "      --hover-bg-color: #E2EBFA;\n",
              "      --hover-fill-color: #174EA6;\n",
              "      --disabled-fill-color: #AAA;\n",
              "      --disabled-bg-color: #DDD;\n",
              "  }\n",
              "\n",
              "  [theme=dark] .colab-df-quickchart {\n",
              "      --bg-color: #3B4455;\n",
              "      --fill-color: #D2E3FC;\n",
              "      --hover-bg-color: #434B5C;\n",
              "      --hover-fill-color: #FFFFFF;\n",
              "      --disabled-bg-color: #3B4455;\n",
              "      --disabled-fill-color: #666;\n",
              "  }\n",
              "\n",
              "  .colab-df-quickchart {\n",
              "    background-color: var(--bg-color);\n",
              "    border: none;\n",
              "    border-radius: 50%;\n",
              "    cursor: pointer;\n",
              "    display: none;\n",
              "    fill: var(--fill-color);\n",
              "    height: 32px;\n",
              "    padding: 0;\n",
              "    width: 32px;\n",
              "  }\n",
              "\n",
              "  .colab-df-quickchart:hover {\n",
              "    background-color: var(--hover-bg-color);\n",
              "    box-shadow: 0 1px 2px rgba(60, 64, 67, 0.3), 0 1px 3px 1px rgba(60, 64, 67, 0.15);\n",
              "    fill: var(--button-hover-fill-color);\n",
              "  }\n",
              "\n",
              "  .colab-df-quickchart-complete:disabled,\n",
              "  .colab-df-quickchart-complete:disabled:hover {\n",
              "    background-color: var(--disabled-bg-color);\n",
              "    fill: var(--disabled-fill-color);\n",
              "    box-shadow: none;\n",
              "  }\n",
              "\n",
              "  .colab-df-spinner {\n",
              "    border: 2px solid var(--fill-color);\n",
              "    border-color: transparent;\n",
              "    border-bottom-color: var(--fill-color);\n",
              "    animation:\n",
              "      spin 1s steps(1) infinite;\n",
              "  }\n",
              "\n",
              "  @keyframes spin {\n",
              "    0% {\n",
              "      border-color: transparent;\n",
              "      border-bottom-color: var(--fill-color);\n",
              "      border-left-color: var(--fill-color);\n",
              "    }\n",
              "    20% {\n",
              "      border-color: transparent;\n",
              "      border-left-color: var(--fill-color);\n",
              "      border-top-color: var(--fill-color);\n",
              "    }\n",
              "    30% {\n",
              "      border-color: transparent;\n",
              "      border-left-color: var(--fill-color);\n",
              "      border-top-color: var(--fill-color);\n",
              "      border-right-color: var(--fill-color);\n",
              "    }\n",
              "    40% {\n",
              "      border-color: transparent;\n",
              "      border-right-color: var(--fill-color);\n",
              "      border-top-color: var(--fill-color);\n",
              "    }\n",
              "    60% {\n",
              "      border-color: transparent;\n",
              "      border-right-color: var(--fill-color);\n",
              "    }\n",
              "    80% {\n",
              "      border-color: transparent;\n",
              "      border-right-color: var(--fill-color);\n",
              "      border-bottom-color: var(--fill-color);\n",
              "    }\n",
              "    90% {\n",
              "      border-color: transparent;\n",
              "      border-bottom-color: var(--fill-color);\n",
              "    }\n",
              "  }\n",
              "</style>\n",
              "\n",
              "  <script>\n",
              "    async function quickchart(key) {\n",
              "      const quickchartButtonEl =\n",
              "        document.querySelector('#' + key + ' button');\n",
              "      quickchartButtonEl.disabled = true;  // To prevent multiple clicks.\n",
              "      quickchartButtonEl.classList.add('colab-df-spinner');\n",
              "      try {\n",
              "        const charts = await google.colab.kernel.invokeFunction(\n",
              "            'suggestCharts', [key], {});\n",
              "      } catch (error) {\n",
              "        console.error('Error during call to suggestCharts:', error);\n",
              "      }\n",
              "      quickchartButtonEl.classList.remove('colab-df-spinner');\n",
              "      quickchartButtonEl.classList.add('colab-df-quickchart-complete');\n",
              "    }\n",
              "    (() => {\n",
              "      let quickchartButtonEl =\n",
              "        document.querySelector('#df-c35fe3a0-edb6-4706-863a-20910cadf7ea button');\n",
              "      quickchartButtonEl.style.display =\n",
              "        google.colab.kernel.accessAllowed ? 'block' : 'none';\n",
              "    })();\n",
              "  </script>\n",
              "</div>\n",
              "    </div>\n",
              "  </div>\n"
            ]
          },
          "metadata": {},
          "execution_count": 294
        }
      ]
    },
    {
      "cell_type": "markdown",
      "source": [
        "##### Dataset 2"
      ],
      "metadata": {
        "id": "GePdnlLncaIt"
      }
    },
    {
      "cell_type": "code",
      "source": [
        "# breast_cancer = load_breast_cancer()\n",
        "# X = pd.DataFrame(data=breast_cancer.data, columns=breast_cancer.feature_names)\n",
        "# X['idx'] = X.index\n",
        "# The data (569 samples with features) is in breast_cancer.data\n",
        "# The target values (0 for malignant, 1 for benign) are in breast_cancer.target\n",
        "# The feature names are in breast_cancer.feature_names"
      ],
      "metadata": {
        "id": "GUUYHuJ4tiIl"
      },
      "execution_count": 274,
      "outputs": []
    },
    {
      "cell_type": "code",
      "source": [
        "# X.drop([0], inplace=True)\n",
        "# X.index[5]"
      ],
      "metadata": {
        "id": "Y9R5FMSOPWCf"
      },
      "execution_count": 275,
      "outputs": []
    },
    {
      "cell_type": "markdown",
      "source": [
        "##### Get Train Samples"
      ],
      "metadata": {
        "id": "oo4yvg4HcdbO"
      }
    },
    {
      "cell_type": "code",
      "source": [
        "train_samples = knn_sampling(X, k=10, dynamic_sampling=False)\n",
        "train_samples.shape"
      ],
      "metadata": {
        "id": "Ez1aZ9aos-id",
        "colab": {
          "base_uri": "https://localhost:8080/"
        },
        "outputId": "0f5ab133-03d6-452c-dc2e-c4d241cd4aca"
      },
      "execution_count": 295,
      "outputs": [
        {
          "output_type": "stream",
          "name": "stdout",
          "text": [
            "Warning Trying to delete Key that do not exist [8941] not found in axis\n",
            "Warning Trying to delete Key that do not exist [8359] not found in axis\n",
            "Warning Trying to delete Key that do not exist [9841, 2813] not found in axis\n",
            "Warning Trying to delete Key that do not exist [490] not found in axis\n",
            "Warning Trying to delete Key that do not exist [9328, 9933, 1286, 912, 419] not found in axis\n",
            "Warning Trying to delete Key that do not exist [8406, 3670, 4312] not found in axis\n",
            "Warning Trying to delete Key that do not exist [8431] not found in axis\n",
            "Warning Trying to delete Key that do not exist [4168, 94, 1713, 1749, 9950, 8938, 5405, 823, 9041, 1490] not found in axis\n",
            "Warning Trying to delete Key that do not exist [4022, 1848, 7494, 96] not found in axis\n",
            "Warning Trying to delete Key that do not exist [2082, 7838, 166, 9947, 1280, 7485] not found in axis\n",
            "Warning Trying to delete Key that do not exist [8851, 3101, 3357, 7725, 9780, 2501, 9041, 3307, 4341] not found in axis\n",
            "Warning Trying to delete Key that do not exist [1336, 4543, 5186, 3670, 9848] not found in axis\n",
            "Warning Trying to delete Key that do not exist [15] not found in axis\n",
            "Warning Trying to delete Key that do not exist [6690, 9780, 6281, 1725, 3307, 3368, 9063] not found in axis\n",
            "Warning Trying to delete Key that do not exist [526, 1763, 1767] not found in axis\n",
            "Warning Trying to delete Key that do not exist [107, 9977] not found in axis\n",
            "Warning Trying to delete Key that do not exist [6661, 7714, 5672, 2607, 1720, 4916, 6095] not found in axis\n",
            "Warning Trying to delete Key that do not exist [5010, 5012, 5913, 5342, 1910] not found in axis\n",
            "Warning Trying to delete Key that do not exist [6678, 9831, 9843, 4254, 230, 2291, 9975, 7415, 7424, 3843, 8967, 3369, 4951, 9059, 891, 1403, 4477, 397, 919, 2976, 2540] not found in axis\n",
            "Warning Trying to delete Key that do not exist [8250, 5727, 634, 9407, 707, 1237, 8957, 2820, 1292, 6543, 4508, 7611] not found in axis\n",
            "Warning Trying to delete Key that do not exist [2181, 4616, 3101, 6690, 7591, 3145, 3922, 1767, 115] not found in axis\n",
            "Warning Trying to delete Key that do not exist [5767, 3278, 9993, 350, 2978, 6577, 9667] not found in axis\n",
            "Warning Trying to delete Key that do not exist [8069, 9351, 8232, 5053, 4951, 2666, 2411] not found in axis\n",
            "Warning Trying to delete Key that do not exist [5783, 5281, 707, 4091] not found in axis\n",
            "Warning Trying to delete Key that do not exist [9853, 6547, 381] not found in axis\n",
            "Warning Trying to delete Key that do not exist [6661, 6219, 9811, 2656, 103, 6281, 9398, 219, 3852, 2910, 9122, 421, 8107, 4095] not found in axis\n",
            "Warning Trying to delete Key that do not exist [4508, 8094, 8888, 1775, 6001, 4856] not found in axis\n",
            "Warning Trying to delete Key that do not exist [3476, 303, 3643, 860] not found in axis\n",
            "Warning Trying to delete Key that do not exist [5031, 4044, 3558, 8426] not found in axis\n",
            "Warning Trying to delete Key that do not exist [5870, 7982] not found in axis\n",
            "Warning Trying to delete Key that do not exist [6148, 5001, 1809, 1698, 5297, 2517, 6489, 5097, 361] not found in axis\n",
            "Warning Trying to delete Key that do not exist [5133, 577, 7749, 2138, 2674, 8311, 8323, 7822, 4769, 170, 3257, 9957, 3876, 3387, 7998, 6984, 3421, 1403, 5010] not found in axis\n",
            "Warning Trying to delete Key that do not exist [4870, 2825, 5262, 5906, 8595, 2766, 6487, 5729] not found in axis\n",
            "Warning Trying to delete Key that do not exist [8337, 9367, 191] not found in axis\n",
            "Warning Trying to delete Key that do not exist [6030, 2063, 1828, 8618, 2371, 5233, 6133] not found in axis\n",
            "Warning Trying to delete Key that do not exist [513, 7945, 8605, 9121, 5176, 9281, 8537, 5218, 752] not found in axis\n",
            "Warning Trying to delete Key that do not exist [4747, 9896, 684, 428, 2105, 1849, 1738, 3927, 1368, 3674, 1630, 1632] not found in axis\n",
            "Warning Trying to delete Key that do not exist [319, 5242] not found in axis\n",
            "Warning Trying to delete Key that do not exist [1074, 7482] not found in axis\n",
            "Warning Trying to delete Key that do not exist [270] not found in axis\n",
            "Warning Trying to delete Key that do not exist [2168] not found in axis\n",
            "Warning Trying to delete Key that do not exist [8212, 2594, 6698, 6233, 8796, 4274, 2260, 3802, 219, 5864, 5962, 1902, 2954, 6558, 1446, 9701, 5098] not found in axis\n",
            "Warning Trying to delete Key that do not exist [7694, 3604, 4135, 40, 560, 6728, 2645, 9819, 94, 4718, 6770, 4215, 634, 7838, 2225, 2237, 5833, 728, 2285, 7441, 6960, 7994, 4439, 8542, 8046, 6521, 8589, 6030, 3476, 923, 7607, 8123, 5075, 5610] not found in axis\n",
            "Warning Trying to delete Key that do not exist [5508, 5270, 6048, 682, 1068, 5838] not found in axis\n",
            "Warning Trying to delete Key that do not exist [1280, 2849, 678, 4903, 9899, 2607, 9779, 5433, 4299, 7137, 1252, 235, 5491, 8947, 2046] not found in axis\n",
            "Warning Trying to delete Key that do not exist [6157] not found in axis\n",
            "Warning Trying to delete Key that do not exist [1926, 5524, 8981, 7963, 6433, 1838, 437, 2113, 1488, 8911, 9177] not found in axis\n",
            "Warning Trying to delete Key that do not exist [4102, 6165, 8726, 7756, 85, 8815, 6268, 3211, 2190, 9362, 3235, 5801, 8373, 5317, 3790, 9938, 6390, 3339, 3359, 4897, 7981, 9536, 3914, 4428, 6483, 1379, 4982, 1922, 7565, 7580, 4519, 2989, 3504, 7610, 4044, 1488, 4561, 9177, 1504] not found in axis\n",
            "Warning Trying to delete Key that do not exist [537, 6188, 3632, 7740, 7766, 5725, 3179, 9871, 3236, 721, 209, 5335, 735, 8431, 249, 1323, 5949, 5441, 9059, 2965, 1943, 5551, 6585, 2523, 2545, 3578] not found in axis\n",
            "Warning Trying to delete Key that do not exist [795] not found in axis\n",
            "Warning Trying to delete Key that do not exist [863] not found in axis\n",
            "Warning Trying to delete Key that do not exist [1617, 5732, 7787, 8305, 723, 5347, 2301, 8963, 5934, 2870, 6989, 5021, 1451, 1493, 2543, 6646] not found in axis\n",
            "Warning Trying to delete Key that do not exist [7701, 3606, 541, 9768, 9786, 573, 8261, 4169, 74, 9308, 8323, 8329, 2193, 4769, 7336, 695, 9933, 731, 8938, 5383, 5901, 291, 5926, 5937, 7474, 5432, 6487, 4445, 3949, 2471, 952, 2501, 2525, 2529, 3045, 8677, 2024, 5100, 6643, 7669] not found in axis\n",
            "Warning Trying to delete Key that do not exist [6, 7064, 1821, 5304, 6844, 200, 8658, 8282, 9210, 9599] not found in axis\n",
            "Warning Trying to delete Key that do not exist [5767, 8891, 3269, 5711, 95, 9447, 5869] not found in axis\n",
            "Warning Trying to delete Key that do not exist [7189, 7455, 7982, 7507, 4956, 3047, 7916, 5870] not found in axis\n",
            "Warning Trying to delete Key that do not exist [6984, 3180] not found in axis\n",
            "Warning Trying to delete Key that do not exist [1792, 4098, 6795, 6156, 9613, 7575, 3611, 1694, 1063, 2262, 9594] not found in axis\n",
            "Warning Trying to delete Key that do not exist [6659, 7687, 3595, 6689, 566, 6714, 9801, 3663, 3674, 1664, 8323, 4747, 4306, 3322, 9982, 8448, 1286, 9998, 6429, 6001, 9076, 7545, 7051, 5578, 2013, 2525] not found in axis\n",
            "Warning Trying to delete Key that do not exist [7217, 1585, 3713, 1667, 3267, 3315, 7416, 4861, 9993, 9999, 5922, 1833, 4917, 7483, 4937, 1355, 379, 8065, 8581, 4525, 4534, 3539, 8671] not found in axis\n",
            "Warning Trying to delete Key that do not exist [5651, 9751, 6698, 5201, 4772, 5337, 3822, 7071, 441, 5053] not found in axis\n",
            "Warning Trying to delete Key that do not exist [8878, 4686, 6366, 4969, 9452] not found in axis\n",
            "Warning Trying to delete Key that do not exist [135, 1300] not found in axis\n",
            "Warning Trying to delete Key that do not exist [8269] not found in axis\n",
            "Warning Trying to delete Key that do not exist [7694, 3736, 3994, 8102, 2602, 2226, 5556, 3643, 3267, 3276, 3665, 1237, 9954, 3820, 5744, 6390, 2679, 6134] not found in axis\n",
            "Warning Trying to delete Key that do not exist [4617, 3085, 5141, 2588, 9757, 5156, 6701, 4155, 7754, 9860, 8852, 1699, 3757, 1723, 1729, 7362, 3830, 5885, 7449, 4923, 317, 9023, 335, 339, 3932, 3985, 2965, 7583, 8138, 970, 1485, 5629] not found in axis\n",
            "Warning Trying to delete Key that do not exist [9752, 3111, 2656, 8312, 7822, 9891, 684, 2783, 7916, 9503, 9010, 365, 2979, 1498] not found in axis\n",
            "Warning Trying to delete Key that do not exist [806, 1593, 7252, 7511, 350, 9842, 8819, 7672] not found in axis\n",
            "Warning Trying to delete Key that do not exist [9848, 5520, 2459, 4768, 5922, 7497, 973, 1110, 1498, 9182, 3180, 5746, 1654] not found in axis\n",
            "Warning Trying to delete Key that do not exist [1858, 3116, 4407] not found in axis\n",
            "Warning Trying to delete Key that do not exist [4512, 412] not found in axis\n",
            "Warning Trying to delete Key that do not exist [5635, 7181, 8720, 9236, 2581, 2075, 2086, 5210, 3177, 3188, 3706, 9907, 8903, 3295, 5881, 5380, 3345, 9723, 309, 9038, 4951, 4953, 9578, 7536, 7037, 2436, 8602, 9151, 1482, 2508, 4070, 5612] not found in axis\n",
            "Warning Trying to delete Key that do not exist [5635, 3595, 7180, 3599, 2583, 3105, 4649, 2645, 5208, 8810, 9837, 2165, 7839, 2719, 4269, 9919, 1733, 4809, 9457, 7922, 6390, 2827, 6933, 2335, 4897, 5417, 8492, 6451, 4961, 5991, 877, 4469, 7085, 9657, 6591, 5081, 7139, 9711, 9203, 2041, 3579, 4095] not found in axis\n",
            "Warning Trying to delete Key that do not exist [7691, 8716, 2612, 5702, 1103, 2640, 3163, 9839, 8309, 6274, 1708, 686, 4787, 3263, 4288, 7905, 8426, 761, 6396, 2813, 8478, 831, 2386, 4947, 4952, 1893, 1903, 7545, 5522, 6551, 2984, 445, 6079, 6593, 4048, 4568, 2020, 9710] not found in axis\n",
            "Warning Trying to delete Key that do not exist [1578, 6700, 5685, 1601, 6729, 1650, 6772, 1218, 8387, 6369, 6891, 4335, 8957, 5374, 2820, 303, 5463, 8545, 2919, 8046, 3953, 399, 925] not found in axis\n",
            "Warning Trying to delete Key that do not exist [9223, 9263, 1596, 2109, 62, 5188, 3654, 8286, 6244, 9833, 5752, 4734, 6278, 3208, 2190, 6802, 4308, 3796, 8950, 839, 9545, 5526, 8090, 932, 6572, 1452, 968, 9167, 9705, 8169, 2042, 2046] not found in axis\n",
            "Warning Trying to delete Key that do not exist [5788, 8107, 3249, 7738, 7244, 4197] not found in axis\n",
            "Warning Trying to delete Key that do not exist [1665, 4947, 9013, 5215] not found in axis\n",
            "Warning Trying to delete Key that do not exist [8790, 4504, 5215] not found in axis\n",
            "Warning Trying to delete Key that do not exist [6673, 7063, 6553, 7095, 2387, 5486, 2042, 6398] not found in axis\n",
            "Warning Trying to delete Key that do not exist [4381, 31, 4770, 705, 7753, 603, 997, 8561, 5747, 8181, 8309, 8187] not found in axis\n",
            "Warning Trying to delete Key that do not exist [2055, 7260, 96, 7266, 4199, 3181, 1657, 125, 5769, 3219, 2712, 1689, 3233, 170, 4269, 9412, 733, 4327, 5353, 9459, 4854, 767, 8959, 3330, 3845, 7953, 1813, 8987, 5940, 1366, 6488, 4455, 5491, 5493, 5497, 9600, 8108, 8119, 5585, 3546, 7137, 5104, 9712] not found in axis\n",
            "Warning Trying to delete Key that do not exist [1028, 9734, 4623, 3639, 5223, 8815, 2174, 6802, 1187, 703, 2287, 8437, 3323, 5885, 7938, 3857, 7973, 7486, 3905, 2377, 7506, 3416, 7020, 6516, 378, 7043, 4487, 8101, 1961, 2517, 8673, 6114, 6143] not found in axis\n",
            "Warning Trying to delete Key that do not exist [9609, 4616, 3344, 6548, 1816, 4255, 4511, 2212, 2424, 4260, 1833, 2864, 3250, 7608, 7362, 9540, 3784, 5836, 5586, 6872, 4570, 7899, 7648, 5223, 4072, 6892] not found in axis\n",
            "Warning Trying to delete Key that do not exist [1153, 6, 5256, 6030, 7453, 5535, 8618, 5043, 1719, 5055, 6367, 2285, 6266] not found in axis\n",
            "Warning Trying to delete Key that do not exist [8042] not found in axis\n",
            "Warning Trying to delete Key that do not exist [8402, 9430] not found in axis\n",
            "Warning Trying to delete Key that do not exist [2240, 3074, 1922, 4874, 7914, 6268, 3708] not found in axis\n",
            "Warning Trying to delete Key that do not exist [6281, 5644, 6797, 151, 7579, 421, 2089, 7467, 2607, 8753, 3393, 3139, 6854, 3142, 6483, 4436, 3545, 1885, 7523, 369, 7537, 8947, 8181, 7551] not found in axis\n",
            "Warning Trying to delete Key that do not exist [20, 3147, 9809, 9817, 4208, 6258, 1653, 8318, 3199, 8851, 3739, 673, 4782, 4787, 3267, 1748, 9949, 1762, 4838, 6379, 9468, 9980, 764, 3330, 9989, 1292, 5901, 4877, 1305, 6941, 289, 7474, 9014, 5943, 1855, 9026, 5501, 917, 6564, 9654, 5067] not found in axis\n",
            "Warning Trying to delete Key that do not exist [5133, 7713, 8231, 5672, 2557, 583, 5198, 8287, 2166, 2176, 663, 671, 4811, 8401, 6356, 7416, 4350, 2824, 3889, 2371, 6473, 2403, 4474, 9604, 6536, 5517, 2465, 937, 1455, 1465, 9676, 5583, 9712, 3069] not found in axis\n",
            "Warning Trying to delete Key that do not exist [2560, 5135, 3608, 541, 579, 9800, 8779, 9813, 8817, 8317, 4740, 2189, 9899, 9913, 5817, 5839, 2783, 5349, 5355, 8441, 2340, 5925, 4923, 3905, 5963, 8563, 5493, 2963, 6561, 8119, 6083, 973, 7133, 3558, 2537, 7150] not found in axis\n",
            "Warning Trying to delete Key that do not exist [8984, 8094, 5665, 1694, 9900, 2109, 4681, 7752, 1229, 9679, 3155, 9942, 3560, 9448, 1520, 9335, 6396, 510] not found in axis\n",
            "Warning Trying to delete Key that do not exist [3079, 6827, 586, 3192] not found in axis\n",
            "Warning Trying to delete Key that do not exist [5004, 5830] not found in axis\n",
            "Warning Trying to delete Key that do not exist [7237, 5650] not found in axis\n",
            "Warning Trying to delete Key that do not exist [4067, 6603, 7037, 399, 3248, 5115, 5053, 4159] not found in axis\n",
            "Warning Trying to delete Key that do not exist [9728, 6668, 4631, 3107, 6188, 7733, 57, 8271, 3663, 7250, 7258, 7269, 3175, 1667, 652, 6823, 7848, 1708, 6317, 8888, 5322, 6347, 2786, 4844, 5374, 2311, 8492, 2377, 8014, 4443, 7012, 6010, 3991, 409, 931, 5550, 7093, 8141, 7130, 7143, 2023] not found in axis\n",
            "Warning Trying to delete Key that do not exist [6153, 6673, 7185, 2602, 1081, 5187, 3653, 4681, 6221, 1107, 602, 5741, 3191, 1657, 3211, 3726, 6287, 1680, 3736, 1178, 5793, 6831, 3248, 6330, 6847, 6339, 5333, 3287, 733, 223, 1247, 6372, 6381, 7918, 6397, 8979, 5911, 8485, 4393, 1368, 4455, 8052, 7037, 5514, 6541, 399, 7063, 5017, 6041, 3485, 6048, 3499, 7109, 7111, 6602, 6603, 5093, 8169, 7151, 7158, 2042] not found in axis\n",
            "Warning Trying to delete Key that do not exist [3589, 7702, 6692, 46, 9775, 2131, 7252, 1125, 9323, 6795, 5776, 144, 1686, 7831, 7320, 3232, 5289, 5294, 3759, 5296, 185, 8404, 5848, 8413, 1254, 8938, 7927, 2813, 2303, 783, 9494, 9499, 4385, 2855, 821, 6464, 2884, 2397, 6501, 364, 1903, 1407, 9088, 8071, 6031, 919, 5534, 1440, 6057, 7102, 8133, 6599, 9674, 474, 7651, 8183, 9726] not found in axis\n",
            "Warning Trying to delete Key that do not exist [523, 3101, 1074, 4664, 7739, 5713, 8294, 4759, 3246, 9399, 188, 5309, 4286, 196, 1744, 1753, 8418, 5888, 6413, 3342, 7441, 5400, 7477, 7993, 6974, 2374, 7507, 1900, 1911, 2439, 3475, 7067, 5023, 4008, 2997, 7617, 6083, 5081, 8677] not found in axis\n",
            "Warning Trying to delete Key that do not exist [8337, 7196, 3361, 4519, 7085, 3376, 3641, 6205, 5995, 1771, 6641, 883, 1908, 3453] not found in axis\n",
            "Warning Trying to delete Key that do not exist [3979, 2447, 4240, 9762, 6563, 9786, 8907, 5069, 723, 5080, 8672, 5101] not found in axis\n",
            "Warning Trying to delete Key that do not exist [9418, 4956, 3933, 5608, 6770] not found in axis\n",
            "Warning Trying to delete Key that do not exist [7625] not found in axis\n",
            "Warning Trying to delete Key that do not exist [9351, 5767, 1927, 9356, 4647, 7362, 8138, 1739, 7882, 6485, 6357, 2271, 95, 7905, 1897, 4981] not found in axis\n",
            "Warning Trying to delete Key that do not exist [2176, 1546, 6797, 6544, 7186, 6437, 5805, 9149, 7239, 6729, 9050, 92, 3825] not found in axis\n",
            "Warning Trying to delete Key that do not exist [6657, 8206, 4112, 5656, 6693, 37, 6213, 4682, 9802, 8269, 8274, 8282, 5729, 4204, 5233, 3706, 8315, 5249, 8359, 9909, 3259, 6344, 2259, 7905, 7398, 5877, 5886, 2305, 3369, 815, 1329, 5431, 4430, 1892, 1893, 3449, 2952, 8076, 7062, 7063, 7064, 1952, 9123, 8100, 5558, 2498, 4572, 1504, 3558, 2550, 9722] not found in axis\n",
            "Warning Trying to delete Key that do not exist [3, 6148, 8725, 23, 3606, 4633, 6179, 8237, 5206, 8791, 7766, 9311, 3174, 9325, 2673, 1161, 1169, 2222, 1201, 3253, 3255, 4286, 1734, 1231, 3795, 8418, 8936, 8438, 1281, 1289, 3345, 6419, 793, 795, 6947, 1353, 9560, 4953, 353, 8559, 7536, 6001, 8571, 1917, 1415, 1933, 8081, 7573, 6045, 2982, 3008, 4567] not found in axis\n",
            "Warning Trying to delete Key that do not exist [3075, 2055, 8716, 535, 3614, 1578, 4649, 1084, 4159, 4674, 4162, 69, 9805, 4175, 6740, 1114, 96, 617, 4211, 1152, 7821, 1168, 6293, 152, 8860, 7861, 1719, 7352, 9406, 2750, 1730, 8900, 3780, 3271, 4295, 1743, 5347, 6902, 1789, 256, 4358, 4366, 8974, 6933, 3352, 7450, 8989, 8992, 3361, 7460, 7485, 4931, 2375, 9555, 3922, 9070, 9592, 377, 5498, 9617, 6033, 7582, 5540, 7591, 5546, 4022, 4540, 4541, 4044, 9679, 477, 7154, 4094] not found in axis\n",
            "Warning Trying to delete Key that do not exist [6656, 9737, 5141, 5669, 3647, 3138, 3679, 655, 5279, 4262, 4789, 1731, 213, 7677, 3315, 5366, 774, 8979, 4406, 5445, 5965, 5487, 6000, 7551, 1436, 937, 1462, 9657, 4074, 5614] not found in axis\n",
            "Warning Trying to delete Key that do not exist [8069, 522, 8078, 7960, 3868, 2482, 4788, 3388, 6219, 8420, 9076, 1270] not found in axis\n",
            "Warning Trying to delete Key that do not exist [9126, 2218, 7476, 7735, 7619, 4934, 8276] not found in axis\n",
            "Warning Trying to delete Key that do not exist [2311, 6024, 5007, 8478, 1078, 8894, 1090, 8774, 9035, 8398, 9047, 8157, 2020] not found in axis\n",
            "Warning Trying to delete Key that do not exist [1926, 1419, 526, 1807, 3602, 2070, 919, 538, 2335, 1697, 1065, 6960, 817, 3763, 59, 3771, 3901, 2495, 963, 8139, 209, 466, 7894, 1502, 8811, 4082, 2298] not found in axis\n",
            "Warning Trying to delete Key that do not exist [3078, 7189, 9241, 7725, 8242, 8243, 8262, 2666, 1133, 2674, 3206, 3210, 3211, 3728, 1171, 681, 5290, 8893, 6854, 2251, 748, 6899, 9978, 774, 776, 3865, 6442, 7470, 311, 5974, 2904, 2397, 1889, 1899, 367, 8056, 1917, 7044, 395, 3489, 3503, 6624, 3043] not found in axis\n",
            "Warning Trying to delete Key that do not exist [3586, 6160, 6679, 4123, 2588, 6695, 8745, 8756, 4665, 8282, 7265, 5733, 4731, 6789, 5769, 4238, 6294, 1192, 5807, 7360, 200, 3297, 227, 9962, 235, 4341, 9977, 2300, 4861, 9210, 6424, 3357, 5948, 8000, 1859, 7009, 4451, 9061, 8040, 364, 8563, 5495, 8064, 9092, 4996, 1937, 8595, 7064, 6553, 1440, 441, 7111, 7624, 5581, 7630, 2514, 8658, 7139, 4601, 1018] not found in axis\n",
            "Warning Trying to delete Key that do not exist [9733, 5131, 4621, 526, 9247, 6691, 2113, 3663, 603, 8289, 3174, 624, 2673, 6263, 5752, 6787, 8345, 1691, 8361, 6834, 2745, 8377, 6143, 4284, 1725, 5824, 6854, 2253, 1237, 226, 6373, 8936, 1296, 9488, 6429, 797, 1310, 2875, 2397, 8561, 7028, 4474, 2428, 1417, 6538, 4490, 1422, 5526, 5535, 1443, 428, 7086, 9144, 9662, 5566, 454, 7627, 6111, 3043, 1524, 7669, 8699] not found in axis\n",
            "Warning Trying to delete Key that do not exist [525, 6680, 3620, 1581, 5685, 8760, 3145, 8790, 3683, 7781, 7278, 4726, 7288, 6782, 701, 8909, 3798, 8923, 8426, 1277, 4354, 1291, 8471, 6936, 1305, 5403, 9050, 8542, 5983, 9073, 6513, 6521, 5511, 2453, 7088, 9653, 6070, 7663, 4598] not found in axis\n",
            "Warning Trying to delete Key that do not exist [4105, 4113, 8725, 3608, 1058, 6708, 5183, 7752, 4172, 7244, 5712, 8312, 8839, 5260, 9364, 6870, 3832, 8441, 3839, 260, 6929, 2343, 2869, 5472, 6524, 1430, 2985, 8634, 8646, 8157] not found in axis\n",
            "Warning Trying to delete Key that do not exist [9868, 4770, 2088, 9779, 7611, 7399, 371] not found in axis\n",
            "Warning Trying to delete Key that do not exist [6146, 4328, 9609, 5304] not found in axis\n",
            "Warning Trying to delete Key that do not exist [1704] not found in axis\n",
            "Warning Trying to delete Key that do not exist [9312, 7973, 2122, 4557, 2870, 6617, 1977] not found in axis\n",
            "Warning Trying to delete Key that do not exist [9988, 389, 9606, 6538, 522, 7435, 9742, 5007, 1553, 6926, 1300, 7572, 6294, 9755, 5021, 3236, 7846, 8105, 8232, 9768, 4267, 2730, 2099, 6579, 1848, 8250, 315, 8894, 9793, 1730, 5058, 6597, 6599, 9035, 6479, 1617, 2006, 2903, 5465, 7650, 102, 2667, 3954, 5622, 8953, 1659, 9214, 1919] not found in axis\n",
            "Warning Trying to delete Key that do not exist [3077, 7176, 522, 9758, 3105, 4664, 6726, 82, 604, 4711, 9862, 8326, 7825, 1179, 4254, 1697, 685, 2229, 189, 4298, 7882, 7887, 6357, 6902, 8438, 8991, 1825, 6435, 9522, 5426, 5431, 8001, 4437, 1366, 343, 6489, 9057, 5988, 4477, 8065, 2434, 1927, 1928, 5001, 6029, 8091, 9627, 1442, 6573, 2481, 6579, 7093, 457, 466, 994, 6122, 2540, 9715, 9214] not found in axis\n",
            "Warning Trying to delete Key that do not exist [1544, 3097, 1085, 5185, 2627, 2632, 9835, 5231, 9335, 1144, 6783, 7315, 6293, 5270, 6297, 669, 3257, 3259, 6342, 3272, 6347, 7386, 737, 3306, 3313, 6398, 6910, 6405, 7960, 1838, 2351, 5434, 5467, 9065, 7555, 7556, 901, 3465, 2973, 6561, 7590, 5563, 465, 7124, 998, 2023, 4584, 4583, 6649, 1017] not found in axis\n",
            "Warning Trying to delete Key that do not exist [6146, 3589, 5646, 1039, 9232, 537, 1533, 2594, 8738, 6691, 8742, 6702, 3642, 1596, 1599, 8769, 7753, 9297, 3669, 4194, 2666, 7787, 4206, 9328, 2165, 9851, 5756, 636, 7804, 2694, 1672, 8330, 657, 4763, 1699, 4274, 9914, 3278, 722, 2260, 4320, 4325, 257, 258, 8964, 6412, 270, 273, 275, 2840, 2330, 6952, 2349, 1842, 3384, 8507, 8508, 1356, 2383, 3414, 2912, 9573, 6504, 365, 8050, 5499, 3459, 3464, 6028, 9100, 9116, 413, 3488, 935, 428, 4525, 2478, 7099, 6095, 4051, 2009, 997, 8681, 8169, 7159, 2555, 1022] not found in axis\n",
            "Warning Trying to delete Key that do not exist [8199, 4627, 6165, 5655, 7209, 7723, 8244, 9281, 6238, 9311, 7782, 4730, 5253, 3728, 2199, 8860, 5284, 2217, 1194, 6339, 8399, 4831, 8415, 6398, 7935, 259, 6413, 4879, 793, 4889, 7963, 3877, 1832, 5943, 3905, 5967, 2910, 7533, 878, 7023, 3437, 3956, 6007, 7556, 911, 4512, 6057, 6060, 2480, 442, 4555, 7119, 481, 3061, 4095] not found in axis\n",
            "Warning Trying to delete Key that do not exist [6660, 12, 2574, 7698, 8218, 7194, 8751, 2102, 3149, 3665, 8282, 603, 3683, 6254, 7284, 9847, 4750, 6806, 4764, 2207, 5813, 4294, 8903, 8396, 4817, 2786, 6884, 5359, 5361, 265, 3858, 4897, 3365, 9000, 7982, 1856, 4419, 8524, 1362, 8537, 2394, 4989, 4491, 415, 9149, 4043, 3560] not found in axis\n",
            "Warning Trying to delete Key that do not exist [3721, 2961, 787, 2464, 4041, 7243, 4173, 5463, 4186, 97, 994, 8163, 1510, 4455, 4457, 1777] not found in axis\n",
            "Warning Trying to delete Key that do not exist [650, 1941, 7878, 9713] not found in axis\n",
            "Warning Trying to delete Key that do not exist [1277] not found in axis\n",
            "Warning Trying to delete Key that do not exist [520, 8332, 8592, 7568, 5778, 5786, 4766, 9128, 9896, 3368, 7084, 6577, 2235, 7494, 1738, 3022, 3666, 9942, 350, 7906, 8036, 7016, 5610, 9070, 9582, 2289, 8828, 2046] not found in axis\n",
            "Warning Trying to delete Key that do not exist [7816, 5781, 4251, 3869, 7710, 6815, 7458, 3876, 5801, 685, 6573, 4398, 1456, 2226, 303, 7981, 5431, 8251, 3774, 9281, 963, 9668, 5449, 4044, 8269, 1621, 2138, 6627, 4067, 9063, 9203, 885, 3702] not found in axis\n",
            "Warning Trying to delete Key that do not exist [6145, 4108, 9744, 6170, 5658, 7202, 1593, 2624, 1606, 5193, 6737, 7763, 4179, 9818, 2144, 7777, 102, 6763, 4206, 6256, 5746, 5111, 8822, 8311, 1657, 4220, 3212, 4249, 1691, 9892, 4263, 7344, 2737, 8900, 2245, 3783, 7371, 8397, 4305, 4831, 2798, 1777, 9463, 1801, 1291, 4879, 6420, 794, 796, 4381, 2846, 5920, 4391, 6955, 300, 6961, 4918, 7991, 1849, 4410, 7999, 9546, 6999, 6494, 3434, 7020, 877, 2416, 3954, 3449, 6527, 9604, 8071, 5008, 8592, 2971, 932, 3499, 452, 8135, 7117, 5582, 3028, 7127, 7130, 6121, 8684, 4087, 9213, 6655] not found in axis\n",
            "Warning Trying to delete Key that do not exist [7175, 2056, 9, 2570, 6157, 6158, 13, 5651, 4121, 2591, 9250, 2086, 3113, 6700, 7725, 2096, 4150, 3131, 3646, 1086, 7744, 2114, 8261, 1110, 6745, 2664, 2153, 7273, 109, 3700, 6266, 6782, 642, 2701, 657, 6288, 2721, 6310, 2758, 9429, 6374, 3816, 4845, 771, 6404, 6921, 8970, 9999, 5909, 3864, 799, 7457, 801, 4401, 9524, 5945, 1852, 7998, 9541, 6983, 6984, 845, 1870, 6482, 853, 3929, 1898, 3947, 6508, 4974, 9593, 7546, 6011, 385, 3458, 1933, 2447, 9617, 3983, 6038, 5529, 1434, 7584, 2977, 5542, 8107, 961, 8131, 9156, 2000, 4566, 5083, 477, 6627, 9700, 7653, 8683, 493, 8685, 3564, 8686, 6129, 7159, 9210, 1531] not found in axis\n",
            "Warning Trying to delete Key that do not exist [7683, 4102, 4104, 7697, 7701, 8734, 39, 5164, 6190, 5686, 6726, 7238, 5198, 3679, 5218, 9835, 112, 1650, 2166, 135, 2699, 147, 2206, 5802, 2735, 1204, 3255, 9399, 1721, 9408, 7872, 7878, 1242, 6366, 7399, 6887, 235, 3837, 3344, 6940, 4410, 5436, 8007, 6995, 6488, 9057, 8565, 3962, 9085, 382, 7575, 7067, 2973, 7071, 3493, 5031, 1450, 430, 2997, 8118, 4036, 9162, 2015, 9702, 6643, 5620, 5623] not found in axis\n",
            "Warning Trying to delete Key that do not exist [8708, 6680, 6727, 6217, 6237, 2186, 3220, 7342, 721, 6363, 735, 736, 5393, 9510, 9014, 1889, 3952, 3480, 6562, 5056, 3046, 5611, 5621, 7675] not found in axis\n",
            "Warning Trying to delete Key that do not exist [16, 9775, 6217, 3150, 596, 4699, 1632, 8316, 5782, 3790, 4815, 9433, 4320, 6378, 9981, 3839, 5892, 3358, 3880, 323, 1354, 5964, 4433, 3434, 4012, 950, 7610, 447, 959, 9695, 7657] not found in axis\n",
            "Warning Trying to delete Key that do not exist [2838, 9174, 4445, 6238, 736, 4193, 5602, 1772, 8702] not found in axis\n",
            "Warning Trying to delete Key that do not exist [4621, 2701] not found in axis\n",
            "Warning Trying to delete Key that do not exist [8165, 1659, 6699, 4973, 6779, 5212, 6717, 3263] not found in axis\n",
            "Warning Trying to delete Key that do not exist [6021, 3209, 3469, 3605, 3223, 1181, 8997, 4648, 8112, 7857, 8512, 2626, 5963, 3276, 4559, 1629, 8286, 9954, 1894, 9833, 5355, 1649, 6012, 5375] not found in axis\n",
            "Warning Trying to delete Key that do not exist [9600, 385, 1153, 2946, 1415, 9610, 141, 8212, 9237, 29, 2296, 8864, 1188, 8742, 5885, 8236, 302, 7988, 5432, 66, 74, 6602, 79, 7633, 2387, 7769, 9946, 4572, 7646, 9316, 5733, 8947, 9080, 1524, 9589, 8568, 7163, 381] not found in axis\n",
            "Warning Trying to delete Key that do not exist [6168, 9242, 8220, 3614, 7201, 2090, 4651, 3121, 5186, 7755, 7757, 2145, 9829, 616, 9835, 9848, 6270, 650, 5261, 144, 1168, 8341, 1173, 2710, 7320, 1689, 159, 7332, 8358, 171, 688, 3761, 5300, 2229, 3256, 9412, 7372, 214, 3812, 9447, 7401, 5354, 9964, 7929, 767, 3342, 2319, 3351, 3894, 1336, 9529, 9020, 4939, 8528, 7512, 9068, 1390, 7549, 3461, 7559, 914, 2451, 7571, 9621, 1947, 3995, 2485, 5578, 4056, 1507, 6643, 9726] not found in axis\n",
            "Warning Trying to delete Key that do not exist [5120, 9734, 1556, 2581, 6168, 4636, 7708, 2082, 2085, 4643, 1577, 43, 9262, 1585, 7222, 4668, 4159, 2624, 9793, 6724, 1605, 4168, 2121, 1100, 6737, 7251, 3155, 6228, 4089, 8296, 1130, 8318, 639, 8335, 9875, 6292, 3226, 1184, 8870, 4269, 5294, 6843, 7363, 3267, 6344, 8393, 7371, 5836, 2249, 8406, 3287, 5342, 5857, 3306, 9459, 3832, 6394, 1786, 1789, 9980, 5888, 6402, 1284, 4356, 2828, 6929, 7965, 3359, 2850, 5925, 1830, 9001, 9011, 3896, 1849, 7999, 8000, 6984, 8011, 5456, 3408, 1877, 1368, 9561, 860, 864, 2401, 5472, 8038, 5990, 4966, 5488, 6524, 6525, 6529, 7044, 1413, 2954, 3469, 922, 1441, 9634, 4520, 6569, 941, 4534, 4023, 8123, 5564, 3516, 7105, 2498, 5060, 3523, 4556, 1485, 1491, 7131, 993, 7140, 9196, 5104, 7153, 8692, 6646, 1017, 1532] not found in axis\n",
            "Warning Trying to delete Key that do not exist [2561, 7685, 16, 9233, 530, 2586, 3105, 6181, 9263, 5700, 582, 3147, 5712, 8789, 8280, 602, 2144, 6242, 7267, 613, 5224, 6762, 8815, 4208, 6780, 6270, 5251, 4742, 2184, 5776, 4249, 2714, 9374, 4768, 3748, 3754, 683, 9900, 8365, 9901, 5300, 4788, 1204, 7352, 5831, 1736, 4810, 9938, 3804, 7901, 9951, 5353, 9964, 9454, 7922, 9459, 6913, 9988, 3338, 2319, 5393, 7445, 9499, 4380, 7966, 2341, 3368, 4397, 7991, 9535, 4928, 6976, 2370, 1859, 6992, 2386, 2908, 8559, 9077, 9593, 8059, 6021, 6540, 3982, 8595, 3480, 2976, 7584, 1954, 1958, 6571, 2479, 7614, 9665, 8133, 5069, 8655, 8148, 5077, 2525, 6622, 2024, 1004, 9201] not found in axis\n",
            "Warning Trying to delete Key that do not exist [7180, 4627, 533, 4659, 1606, 6218, 9806, 4176, 2643, 85, 4184, 4698, 6235, 615, 624, 4215, 7808, 2186, 2698, 5260, 4747, 4244, 3220, 662, 8351, 4278, 3773, 5320, 5853, 8941, 9462, 5367, 7934, 3338, 2327, 7964, 8476, 292, 8998, 1342, 2378, 334, 5475, 2419, 8066, 8592, 6034, 1428, 5528, 6053, 4008, 6078, 8130, 9157, 4555, 3022, 7134, 3050, 6129, 8691, 7162, 8702] not found in axis\n",
            "Warning Trying to delete Key that do not exist [521, 4620, 4629, 3651, 2121, 3158, 2145, 7267, 8814, 114, 8325, 8345, 4268, 7372, 8397, 6904, 1797, 7944, 6417, 3345, 5396, 6464, 8527, 4470, 4472, 4994, 7079, 8156, 8166, 4094] not found in axis\n",
            "Warning Trying to delete Key that do not exist [4113, 411, 8992, 6700, 2368, 2500, 5317, 3526, 324, 9674, 853, 3925, 8806, 8298, 4205, 497, 5114, 6653, 9598] not found in axis\n",
            "Warning Trying to delete Key that do not exist [8448, 8527, 786] not found in axis\n",
            "Warning Trying to delete Key that do not exist [3840, 3206, 9622, 5271, 2599, 809, 3113, 447, 835, 2766, 2512, 9432, 7906, 2667, 9582, 4604] not found in axis\n",
            "Warning Trying to delete Key that do not exist [1922, 2949, 1934, 2452, 2969, 9885, 9920, 3652, 3915, 2896, 8020, 617, 1006, 4464, 6132] not found in axis\n",
            "Warning Trying to delete Key that do not exist [8836, 2569, 1546, 6028, 914, 2452, 7447, 285, 7069, 2589, 6439, 682, 1198, 4274, 438, 7864, 2106, 6334, 9026, 3394, 8906, 3278, 1230, 7124, 3927, 8538, 1252, 9573, 9704, 1004, 1903, 9071, 5490, 8696, 4092, 9085] not found in axis\n",
            "Warning Trying to delete Key that do not exist [9744, 1044, 4674, 3147, 5204, 6229, 6232, 8280, 9818, 6752, 1647, 8818, 3197, 1156, 1675, 9356, 7318, 8364, 5297, 1717, 8376, 9406, 2752, 713, 3806, 1785, 2314, 1810, 7445, 5920, 5922, 3878, 3884, 5428, 4411, 4413, 1858, 6985, 8544, 3431, 6526, 8065, 4496, 2974, 4001, 4011, 9136, 1970, 6585, 3527, 8648, 8138, 8143, 2513, 989, 7133, 479, 3571, 2558] not found in axis\n",
            "Warning Trying to delete Key that do not exist [6145, 6660, 7687, 9223, 4616, 4115, 9753, 4636, 9757, 6180, 5686, 5687, 9273, 576, 8770, 2641, 4689, 1112, 9819, 3678, 8804, 3182, 8309, 119, 9851, 126, 130, 2698, 6285, 7823, 8337, 4241, 7827, 6295, 2713, 2212, 7336, 2729, 7855, 9923, 5830, 2764, 9422, 1743, 3282, 7890, 7893, 8411, 1762, 9443, 1765, 743, 5354, 6379, 9965, 8943, 8433, 5362, 9971, 5878, 5366, 9983, 3329, 7939, 5895, 9993, 6410, 2315, 781, 7953, 786, 277, 801, 2340, 5926, 4396, 4911, 4401, 9029, 327, 9042, 2899, 347, 2403, 3944, 6504, 3437, 9070, 6011, 6528, 7565, 917, 8601, 5546, 6577, 4535, 9144, 1481, 3547, 3036, 7653, 9702, 4071, 7154, 7676, 2557] not found in axis\n",
            "Warning Trying to delete Key that do not exist [4097, 8706, 7686, 2055, 9225, 4107, 3084, 1037, 6164, 2581, 4641, 4649, 7723, 9775, 3632, 3639, 4664, 66, 4679, 6215, 8783, 4687, 6227, 4183, 4189, 4707, 8805, 108, 4204, 5745, 6771, 6773, 3199, 5764, 1163, 9869, 7310, 4753, 5268, 2709, 3224, 6811, 8861, 5284, 680, 5290, 7343, 1711, 693, 7862, 3256, 3257, 6329, 8377, 3783, 5835, 1229, 8401, 1754, 6367, 3296, 6880, 1256, 1794, 5380, 9989, 773, 9211, 6409, 5899, 271, 1299, 806, 7983, 4400, 4936, 1885, 3422, 863, 7012, 1381, 3952, 7538, 3956, 3445, 6519, 9080, 381, 897, 8070, 3468, 6543, 2976, 6562, 2997, 1975, 4541, 959, 2504, 4554, 460, 5077, 4053, 2021, 8179, 8699, 6653] not found in axis\n",
            "Warning Trying to delete Key that do not exist [4610, 8706, 6157, 2573, 3599, 5137, 4626, 22, 2071, 5656, 8727, 6683, 5661, 6699, 4653, 9770, 8753, 4660, 3641, 2618, 1596, 60, 4165, 3145, 7754, 2633, 4173, 3149, 5199, 7759, 8274, 5206, 7255, 2141, 6750, 3686, 4717, 1133, 8304, 8308, 7799, 6264, 2172, 128, 7811, 7815, 3721, 7312, 4753, 5781, 4770, 3235, 2217, 4789, 1723, 9404, 5311, 1734, 1735, 8393, 717, 6862, 737, 2789, 1766, 6891, 9971, 757, 3322, 3844, 8965, 1797, 6417, 6935, 1304, 2332, 8989, 3358, 3876, 1321, 3369, 3372, 2348, 1841, 9010, 2356, 1337, 2876, 6467, 9540, 2373, 9543, 9544, 9039, 5455, 3921, 2388, 3924, 2913, 5989, 6502, 1899, 8048, 1392, 1396, 6521, 6010, 2425, 8060, 3965, 6014, 3462, 2462, 4516, 6053, 2988, 940, 3500, 2479, 6064, 435, 4023, 1468, 3519, 2001, 4567, 3035, 6109, 2015, 8160, 2022, 6119, 6127, 2545, 6131, 1022] not found in axis\n",
            "Warning Trying to delete Key that do not exist [4612, 2570, 4638, 4641, 3108, 6185, 3116, 2097, 3128, 4665, 4666, 6210, 8776, 6730, 4689, 3672, 6752, 9824, 4716, 119, 1144, 9337, 7288, 3730, 1176, 664, 8869, 4779, 9392, 1713, 5808, 7857, 8385, 3789, 4817, 7900, 5853, 3296, 9452, 2806, 9469, 8964, 4877, 8974, 7444, 2838, 9495, 2329, 296, 9536, 8527, 5466, 7003, 8030, 1377, 5482, 6007, 8056, 5505, 1931, 2445, 2455, 8605, 9125, 3495, 5039, 6069, 7627, 4556, 1997, 976, 8656, 8154, 992, 5602, 3046, 5100, 7672] not found in axis\n",
            "Warning Trying to delete Key that do not exist [1032, 29, 4130, 3619, 8751, 5179, 4681, 4698, 4726, 4219, 1153, 3220, 667, 5279, 1721, 6340, 7884, 6904, 1273, 4354, 7427, 6417, 5394, 2841, 4388, 5043, 8635, 2494, 4073, 4597, 6655] not found in axis\n",
            "Warning Trying to delete Key that do not exist [9387, 6453, 5188, 4677, 1365, 4696, 3947, 8698] not found in axis\n",
            "Warning Trying to delete Key that do not exist [2048, 7809, 2828, 3343, 3223, 4635, 3249, 4531, 7224, 1849, 3899, 7997, 2113, 6982, 9831, 9833, 4586, 3821, 4207] not found in axis\n",
            "Warning Trying to delete Key that do not exist [6274, 2309, 3845, 7946, 3211, 1936, 7061, 2205, 3359, 2721, 8610, 1955, 421, 4769, 4260, 4777, 3883, 5931, 43, 2607, 6192, 7217, 4021, 449, 3139, 3017, 1993, 9292, 2641, 2387, 9041, 3926, 5721, 1242, 2906, 9819, 6363, 6234, 5726, 6872, 881, 2037, 4982, 3959, 3193, 7157, 5500, 6399] not found in axis\n",
            "Warning Trying to delete Key that do not exist [8064, 6273, 1539, 3847, 2314, 523, 7690, 8074, 2313, 9615, 6412, 3858, 5907, 5012, 1939, 9367, 8727, 7834, 1563, 1949, 5405, 1447, 7975, 8492, 5804, 9902, 302, 9646, 6451, 6964, 1337, 1595, 2494, 5823, 1985, 3908, 332, 7249, 5845, 9947, 8293, 8550, 7658, 2544, 3313, 8056, 9849, 6907] not found in axis\n",
            "Warning Trying to delete Key that do not exist [6675, 7717, 6695, 51, 6707, 6195, 8253, 9801, 7756, 1613, 9299, 2645, 3669, 92, 105, 4203, 3693, 6254, 6775, 1658, 8316, 3715, 7300, 6276, 2190, 1189, 9895, 176, 2742, 6843, 1212, 4284, 5311, 1223, 206, 211, 7901, 8418, 1267, 251, 3841, 8456, 7435, 4886, 6429, 1310, 2849, 4913, 9017, 1855, 3928, 367, 7536, 8579, 4487, 1426, 6036, 5525, 1949, 8627, 9142, 8657, 1508, 3575] not found in axis\n",
            "Warning Trying to delete Key that do not exist [2054, 6156, 5138, 3092, 25, 6681, 4635, 8734, 8739, 4134, 1065, 6201, 6204, 8261, 2633, 5711, 3157, 8789, 86, 5728, 2659, 618, 3694, 5232, 7285, 9334, 7291, 8316, 5246, 6785, 9865, 1163, 2192, 656, 7829, 8348, 7836, 158, 7844, 7333, 2735, 4785, 2740, 6331, 2236, 3771, 6337, 2245, 4294, 4806, 2248, 7370, 4313, 6375, 5355, 4854, 6396, 9980, 5373, 6916, 2310, 4368, 1297, 9494, 8471, 8474, 2853, 293, 2857, 1835, 4911, 1331, 9535, 7491, 9541, 9547, 5963, 8019, 6996, 4950, 6504, 6001, 3442, 4983, 9592, 9099, 3981, 6031, 8087, 5020, 9631, 6560, 4005, 4521, 7594, 7086, 6578, 4534, 3006, 959, 9665, 4036, 8143, 3536, 9681, 978, 466, 468, 6622, 486, 8174, 7151, 1520] not found in axis\n",
            "Warning Trying to delete Key that do not exist [8713, 7690, 4620, 6158, 4627, 9237, 9239, 34, 1574, 2087, 8231, 1064, 5174, 8759, 7228, 5181, 3653, 3144, 6222, 1108, 4693, 5719, 8793, 6240, 1125, 8815, 8819, 8820, 7800, 8827, 125, 5253, 5254, 9862, 6796, 7310, 8336, 657, 3219, 2196, 1685, 9364, 8867, 9894, 7849, 4273, 4788, 4277, 9912, 7360, 7363, 3271, 9928, 3274, 3292, 223, 6882, 5865, 4331, 2285, 4845, 6383, 4340, 5368, 1285, 6922, 4363, 8462, 4369, 1815, 3356, 284, 7457, 4393, 4402, 6451, 9014, 5943, 9533, 1862, 8011, 6993, 3925, 7512, 2904, 8547, 1893, 4974, 9072, 4983, 4982, 4989, 9095, 7559, 4491, 3982, 5519, 2961, 3480, 7065, 923, 1436, 2971, 3486, 2978, 935, 7594, 2987, 941, 2478, 8111, 7095, 7096, 7102, 9153, 4555, 972, 6094, 2514, 7126, 6617, 9693, 6622, 8669, 2017, 5602, 2021, 8694, 1017, 3579, 5116, 6654] not found in axis\n",
            "Warning Trying to delete Key that do not exist [4611, 8197, 3074, 8199, 2568, 4104, 525, 4622, 7189, 4632, 2074, 8745, 7214, 7218, 9785, 1594, 6722, 2633, 6734, 592, 7760, 7251, 8796, 8797, 7777, 616, 3178, 4714, 5742, 8306, 9331, 6770, 3701, 7816, 4238, 6298, 8861, 3754, 4785, 6835, 2742, 8377, 698, 3770, 5311, 5322, 1738, 3282, 4824, 4317, 2797, 8442, 4349, 770, 2308, 2821, 776, 4363, 7948, 7439, 2832, 1307, 9500, 2334, 8475, 2850, 4907, 828, 324, 4934, 5958, 9543, 9549, 846, 6989, 5967, 8021, 5974, 1367, 9560, 5466, 7005, 352, 9576, 1388, 1903, 7539, 6007, 9601, 3973, 7052, 7061, 2460, 7582, 6051, 9124, 2982, 939, 3508, 9152, 8132, 9157, 1476, 7623, 3022, 9681, 6102, 2523, 4062, 481, 1508, 6122, 2544, 8179, 8698] not found in axis\n",
            "Warning Trying to delete Key that do not exist [4611, 4620, 531, 8213, 7190, 8739, 9765, 7206, 39, 1581, 560, 1074, 5200, 605, 93, 4196, 7787, 7277, 623, 1139, 5252, 6791, 9355, 9361, 2737, 7356, 1724, 7879, 201, 7884, 206, 3280, 722, 223, 3297, 2276, 6888, 6887, 8944, 751, 1266, 1273, 2307, 8981, 2340, 817, 8506, 7999, 4935, 3402, 9053, 3436, 2423, 3964, 1926, 394, 8588, 3985, 6034, 7067, 1449, 1973, 7604, 7613, 5570, 4041, 7626, 6618, 3548, 6112, 5606, 5611, 497, 7672, 4093] not found in axis\n",
            "Warning Trying to delete Key that do not exist [6147, 4628, 4643, 9260, 7278, 4736, 9354, 2713, 667, 9932, 3277, 9955, 2305, 6432, 1832, 1839, 7000, 3947, 1396, 388, 3491, 8616] not found in axis\n",
            "Warning Trying to delete Key that do not exist [3520, 1506, 996, 9828, 4268, 1100, 1902, 630, 8636, 4828] not found in axis\n",
            "Warning Trying to delete Key that do not exist [4112, 8722, 6545, 9493, 3990, 4501, 1689, 2204, 796, 7711, 6571, 4791, 7483, 4796, 5693, 7613, 6338, 9412, 5190, 7117, 1358, 3279, 3281, 2264, 4954, 5858, 9059, 5990, 4839, 1777, 2163, 761, 3191, 3449, 7804] not found in axis\n",
            "Warning Trying to delete Key that do not exist [6657, 6661, 5766, 4361, 2570, 9999, 1939, 7059, 7063, 6049, 8999, 2347, 7213, 6189, 8621, 6705, 2099, 4531, 4409, 3387, 3265, 8001, 7109, 6727, 1736, 4433, 853, 4439, 855, 986, 4699, 1761, 4195, 8437, 8057, 6010, 4092, 4477, 2431] not found in axis\n",
            "Warning Trying to delete Key that do not exist [640, 2695, 5655, 9247, 3749, 170, 7085, 3757, 2352, 5940, 1590, 3767, 1851, 315, 8516, 7621, 580, 3398, 4170, 1102, 5202, 5075, 345, 2659, 7533, 9456, 9204, 3577, 3834, 5886] not found in axis\n",
            "Warning Trying to delete Key that do not exist [4097, 4615, 7175, 5132, 1552, 8212, 2586, 1058, 4133, 2090, 6189, 3631, 1583, 6195, 1601, 5189, 1103, 2129, 6231, 5208, 2140, 6249, 6252, 4209, 2164, 8824, 9339, 1147, 8316, 3199, 3200, 1155, 7303, 3208, 2697, 7831, 1688, 5788, 8864, 9889, 8354, 6307, 1188, 677, 5802, 8882, 7861, 6327, 6844, 6344, 1225, 4297, 2764, 1231, 9941, 6358, 4319, 1249, 5859, 2283, 9452, 7407, 2809, 2811, 258, 4361, 779, 3339, 1810, 9722, 1300, 5915, 2851, 3876, 4409, 8514, 2883, 847, 1360, 3925, 4439, 2903, 9051, 7520, 9574, 5991, 9074, 9606, 7564, 919, 921, 7069, 9630, 8102, 938, 3000, 8638, 1983, 961, 2497, 6597, 7624, 4555, 8143, 4055, 3552, 4075, 4077, 6641, 3574, 1527, 1018] not found in axis\n",
            "Warning Trying to delete Key that do not exist [5131, 7692, 7181, 7699, 35, 5161, 4144, 9777, 8249, 3643, 3647, 8767, 3144, 2130, 1635, 2676, 6776, 1670, 2698, 656, 6296, 3224, 669, 1712, 2737, 9908, 7871, 8395, 5325, 7377, 6357, 9448, 2282, 7403, 5354, 1267, 3844, 1797, 7963, 5409, 7969, 9506, 7459, 5929, 7978, 7980, 308, 1873, 1874, 341, 4951, 7513, 3929, 7002, 8043, 9073, 9076, 7551, 7565, 405, 8088, 5019, 7579, 412, 927, 6559, 2468, 5546, 5034, 7090, 1970, 3514, 9148, 9162, 5079, 7133, 9184, 4071, 3059, 9716, 2549] not found in axis\n",
            "Warning Trying to delete Key that do not exist [509, 512, 4099, 4615, 2566, 7689, 10, 9233, 6165, 8220, 3104, 2087, 5671, 7209, 5672, 7218, 1083, 6203, 8771, 585, 7757, 7764, 2644, 3689, 2668, 5743, 5744, 5747, 6261, 3191, 1664, 4742, 135, 7824, 7825, 9360, 1683, 7831, 9374, 1694, 4773, 4266, 3243, 1196, 5300, 7861, 2755, 1234, 2262, 4315, 3293, 9949, 7677, 6369, 4325, 8933, 6888, 7401, 7404, 4333, 9964, 8943, 2287, 9971, 8441, 4347, 9468, 8960, 6912, 4867, 3848, 7432, 9994, 7958, 7964, 8995, 6953, 2863, 819, 2356, 6453, 2358, 9527, 3385, 5435, 3901, 5439, 1860, 9540, 1862, 6472, 7503, 5456, 337, 849, 8019, 4949, 4952, 3422, 9057, 2403, 3430, 3433, 2922, 3956, 7543, 1915, 6013, 7549, 4479, 5505, 9096, 7564, 6029, 8593, 6033, 1429, 9111, 919, 5016, 2981, 9638, 2983, 1958, 6057, 2988, 9133, 1453, 944, 2480, 9142, 2489, 8126, 6598, 2503, 5066, 1995, 6093, 2004, 997, 8677, 5093, 1003, 3566, 1520, 9201, 3059, 5620, 6646, 504, 5629] not found in axis\n",
            "Warning Trying to delete Key that do not exist [4099, 2566, 4616, 2568, 1549, 8210, 9242, 3613, 1566, 7713, 1058, 32, 6693, 1573, 5161, 2089, 1580, 5165, 3630, 5167, 2611, 8255, 5183, 3138, 5703, 5193, 75, 9805, 6735, 7761, 6739, 2135, 6237, 9824, 8292, 8806, 4711, 4719, 1143, 9336, 7291, 1660, 6269, 2172, 6783, 6271, 9861, 4235, 8331, 1680, 1176, 7841, 1703, 4263, 8367, 6329, 4795, 6851, 4291, 7882, 9937, 6868, 3799, 1753, 7902, 2280, 9450, 8188, 6385, 8950, 1784, 6395, 9980, 251, 3331, 8454, 2313, 3851, 9721, 8975, 8465, 1298, 8477, 2847, 5922, 5411, 8485, 2857, 1834, 1325, 5429, 7480, 6977, 3397, 337, 5467, 8539, 863, 3427, 9573, 8549, 4457, 3946, 6517, 2424, 9605, 7045, 2447, 5519, 5521, 5019, 9627, 2983, 1961, 2987, 8627, 5056, 7105, 452, 5575, 8135, 9684, 4053, 6618, 6107, 8684, 5105, 7669, 3061, 5625, 8700] not found in axis\n",
            "Warning Trying to delete Key that do not exist [512, 3077, 6668, 1549, 9235, 8213, 5655, 8732, 3620, 3109, 7719, 6699, 9261, 4656, 3642, 9274, 8255, 8775, 6729, 2636, 3149, 9805, 1102, 6221, 7760, 3678, 4706, 9320, 4203, 7276, 8305, 2674, 2163, 8819, 7285, 630, 9847, 119, 6776, 3713, 7812, 4742, 7814, 4748, 2194, 6804, 7319, 664, 1178, 9883, 9383, 2220, 3245, 6319, 8880, 1202, 694, 2236, 7357, 700, 6338, 4805, 7881, 1225, 8395, 2256, 8917, 5350, 3304, 7913, 8698, 2290, 2802, 7420, 5373, 9469, 5896, 4362, 4366, 272, 5909, 4379, 797, 292, 8487, 1837, 4401, 5429, 7997, 8511, 8514, 847, 4438, 3416, 5465, 8539, 5984, 2406, 3432, 876, 370, 8054, 3958, 8056, 1399, 378, 9593, 385, 5006, 9616, 1431, 8600, 2972, 8094, 9631, 3507, 948, 950, 2487, 7095, 4537, 5052, 7109, 8646, 455, 9673, 8651, 5580, 6604, 5595, 4061, 2016, 4577, 9184, 5091, 9706, 1515, 5615, 9712, 8179, 5114, 3067, 5629] not found in axis\n",
            "Warning Trying to delete Key that do not exist [3082, 3086, 7192, 5678, 6707, 6710, 9279, 70, 6216, 8275, 602, 1132, 9344, 7305, 5261, 7822, 3735, 7319, 1179, 667, 1693, 2214, 8376, 697, 6336, 8903, 1736, 3784, 1744, 8918, 5851, 4317, 7902, 4318, 9442, 9964, 3830, 9471, 5377, 5376, 4898, 1839, 1330, 8500, 9534, 846, 6999, 8039, 5995, 1396, 3447, 8592, 9113, 4523, 5035, 7643, 8668, 3050, 8174, 4084, 3574] not found in axis\n"
          ]
        },
        {
          "output_type": "execute_result",
          "data": {
            "text/plain": [
              "(2418, 785)"
            ]
          },
          "metadata": {},
          "execution_count": 295
        }
      ]
    },
    {
      "cell_type": "code",
      "source": [
        "try:\n",
        "  train_samples['idx'] = train_samples['idx'].astype(int)\n",
        "  train_samples_indices = train_samples['idx'].tolist()      # useful for plotting scatter graph\n",
        "  train_samples.drop(columns=['idx'], inplace=True)\n",
        "except KeyError as ke:\n",
        "  print(\"Column is Already Dropped and Saved\", ke.args[0])"
      ],
      "metadata": {
        "id": "-NdNJhQq4x9c"
      },
      "execution_count": 296,
      "outputs": []
    },
    {
      "cell_type": "code",
      "source": [
        "train_samples.head()"
      ],
      "metadata": {
        "colab": {
          "base_uri": "https://localhost:8080/",
          "height": 235
        },
        "id": "3TH4i00pt2mh",
        "outputId": "150ae340-f440-4b0a-ae47-85cf63d4a748"
      },
      "execution_count": 297,
      "outputs": [
        {
          "output_type": "execute_result",
          "data": {
            "text/plain": [
              "   pixel1  pixel2  pixel3  pixel4  pixel5  pixel6  pixel7  pixel8  pixel9  \\\n",
              "0     0.0     0.0     0.0     0.0     0.0     0.0     0.0     0.0     0.0   \n",
              "1     0.0     0.0     0.0     0.0     0.0     0.0     0.0     0.0     0.0   \n",
              "2     0.0     0.0     0.0     0.0     0.0     0.0     0.0     0.0     0.0   \n",
              "3     0.0     0.0     0.0     0.0     0.0     0.0     0.0     0.0     0.0   \n",
              "4     0.0     0.0     0.0     0.0     0.0     0.0     0.0     0.0     0.0   \n",
              "\n",
              "   pixel10  ...  pixel775  pixel776  pixel777  pixel778  pixel779  pixel780  \\\n",
              "0      0.0  ...       0.0       0.0       0.0       0.0       0.0       0.0   \n",
              "1      0.0  ...       0.0       0.0       0.0       0.0       0.0       0.0   \n",
              "2      0.0  ...       0.0       0.0       0.0       0.0       0.0       0.0   \n",
              "3      0.0  ...       0.0       0.0       0.0       0.0       0.0       0.0   \n",
              "4      0.0  ...       0.0       0.0       0.0       0.0       0.0       0.0   \n",
              "\n",
              "   pixel781  pixel782  pixel783  pixel784  \n",
              "0       0.0       0.0       0.0       0.0  \n",
              "1       0.0       0.0       0.0       0.0  \n",
              "2       0.0       0.0       0.0       0.0  \n",
              "3       0.0       0.0       0.0       0.0  \n",
              "4       0.0       0.0       0.0       0.0  \n",
              "\n",
              "[5 rows x 784 columns]"
            ],
            "text/html": [
              "\n",
              "  <div id=\"df-a8a31ba2-2917-429e-8a54-9eb18d3c0798\" class=\"colab-df-container\">\n",
              "    <div>\n",
              "<style scoped>\n",
              "    .dataframe tbody tr th:only-of-type {\n",
              "        vertical-align: middle;\n",
              "    }\n",
              "\n",
              "    .dataframe tbody tr th {\n",
              "        vertical-align: top;\n",
              "    }\n",
              "\n",
              "    .dataframe thead th {\n",
              "        text-align: right;\n",
              "    }\n",
              "</style>\n",
              "<table border=\"1\" class=\"dataframe\">\n",
              "  <thead>\n",
              "    <tr style=\"text-align: right;\">\n",
              "      <th></th>\n",
              "      <th>pixel1</th>\n",
              "      <th>pixel2</th>\n",
              "      <th>pixel3</th>\n",
              "      <th>pixel4</th>\n",
              "      <th>pixel5</th>\n",
              "      <th>pixel6</th>\n",
              "      <th>pixel7</th>\n",
              "      <th>pixel8</th>\n",
              "      <th>pixel9</th>\n",
              "      <th>pixel10</th>\n",
              "      <th>...</th>\n",
              "      <th>pixel775</th>\n",
              "      <th>pixel776</th>\n",
              "      <th>pixel777</th>\n",
              "      <th>pixel778</th>\n",
              "      <th>pixel779</th>\n",
              "      <th>pixel780</th>\n",
              "      <th>pixel781</th>\n",
              "      <th>pixel782</th>\n",
              "      <th>pixel783</th>\n",
              "      <th>pixel784</th>\n",
              "    </tr>\n",
              "  </thead>\n",
              "  <tbody>\n",
              "    <tr>\n",
              "      <th>0</th>\n",
              "      <td>0.0</td>\n",
              "      <td>0.0</td>\n",
              "      <td>0.0</td>\n",
              "      <td>0.0</td>\n",
              "      <td>0.0</td>\n",
              "      <td>0.0</td>\n",
              "      <td>0.0</td>\n",
              "      <td>0.0</td>\n",
              "      <td>0.0</td>\n",
              "      <td>0.0</td>\n",
              "      <td>...</td>\n",
              "      <td>0.0</td>\n",
              "      <td>0.0</td>\n",
              "      <td>0.0</td>\n",
              "      <td>0.0</td>\n",
              "      <td>0.0</td>\n",
              "      <td>0.0</td>\n",
              "      <td>0.0</td>\n",
              "      <td>0.0</td>\n",
              "      <td>0.0</td>\n",
              "      <td>0.0</td>\n",
              "    </tr>\n",
              "    <tr>\n",
              "      <th>1</th>\n",
              "      <td>0.0</td>\n",
              "      <td>0.0</td>\n",
              "      <td>0.0</td>\n",
              "      <td>0.0</td>\n",
              "      <td>0.0</td>\n",
              "      <td>0.0</td>\n",
              "      <td>0.0</td>\n",
              "      <td>0.0</td>\n",
              "      <td>0.0</td>\n",
              "      <td>0.0</td>\n",
              "      <td>...</td>\n",
              "      <td>0.0</td>\n",
              "      <td>0.0</td>\n",
              "      <td>0.0</td>\n",
              "      <td>0.0</td>\n",
              "      <td>0.0</td>\n",
              "      <td>0.0</td>\n",
              "      <td>0.0</td>\n",
              "      <td>0.0</td>\n",
              "      <td>0.0</td>\n",
              "      <td>0.0</td>\n",
              "    </tr>\n",
              "    <tr>\n",
              "      <th>2</th>\n",
              "      <td>0.0</td>\n",
              "      <td>0.0</td>\n",
              "      <td>0.0</td>\n",
              "      <td>0.0</td>\n",
              "      <td>0.0</td>\n",
              "      <td>0.0</td>\n",
              "      <td>0.0</td>\n",
              "      <td>0.0</td>\n",
              "      <td>0.0</td>\n",
              "      <td>0.0</td>\n",
              "      <td>...</td>\n",
              "      <td>0.0</td>\n",
              "      <td>0.0</td>\n",
              "      <td>0.0</td>\n",
              "      <td>0.0</td>\n",
              "      <td>0.0</td>\n",
              "      <td>0.0</td>\n",
              "      <td>0.0</td>\n",
              "      <td>0.0</td>\n",
              "      <td>0.0</td>\n",
              "      <td>0.0</td>\n",
              "    </tr>\n",
              "    <tr>\n",
              "      <th>3</th>\n",
              "      <td>0.0</td>\n",
              "      <td>0.0</td>\n",
              "      <td>0.0</td>\n",
              "      <td>0.0</td>\n",
              "      <td>0.0</td>\n",
              "      <td>0.0</td>\n",
              "      <td>0.0</td>\n",
              "      <td>0.0</td>\n",
              "      <td>0.0</td>\n",
              "      <td>0.0</td>\n",
              "      <td>...</td>\n",
              "      <td>0.0</td>\n",
              "      <td>0.0</td>\n",
              "      <td>0.0</td>\n",
              "      <td>0.0</td>\n",
              "      <td>0.0</td>\n",
              "      <td>0.0</td>\n",
              "      <td>0.0</td>\n",
              "      <td>0.0</td>\n",
              "      <td>0.0</td>\n",
              "      <td>0.0</td>\n",
              "    </tr>\n",
              "    <tr>\n",
              "      <th>4</th>\n",
              "      <td>0.0</td>\n",
              "      <td>0.0</td>\n",
              "      <td>0.0</td>\n",
              "      <td>0.0</td>\n",
              "      <td>0.0</td>\n",
              "      <td>0.0</td>\n",
              "      <td>0.0</td>\n",
              "      <td>0.0</td>\n",
              "      <td>0.0</td>\n",
              "      <td>0.0</td>\n",
              "      <td>...</td>\n",
              "      <td>0.0</td>\n",
              "      <td>0.0</td>\n",
              "      <td>0.0</td>\n",
              "      <td>0.0</td>\n",
              "      <td>0.0</td>\n",
              "      <td>0.0</td>\n",
              "      <td>0.0</td>\n",
              "      <td>0.0</td>\n",
              "      <td>0.0</td>\n",
              "      <td>0.0</td>\n",
              "    </tr>\n",
              "  </tbody>\n",
              "</table>\n",
              "<p>5 rows × 784 columns</p>\n",
              "</div>\n",
              "    <div class=\"colab-df-buttons\">\n",
              "\n",
              "  <div class=\"colab-df-container\">\n",
              "    <button class=\"colab-df-convert\" onclick=\"convertToInteractive('df-a8a31ba2-2917-429e-8a54-9eb18d3c0798')\"\n",
              "            title=\"Convert this dataframe to an interactive table.\"\n",
              "            style=\"display:none;\">\n",
              "\n",
              "  <svg xmlns=\"http://www.w3.org/2000/svg\" height=\"24px\" viewBox=\"0 -960 960 960\">\n",
              "    <path d=\"M120-120v-720h720v720H120Zm60-500h600v-160H180v160Zm220 220h160v-160H400v160Zm0 220h160v-160H400v160ZM180-400h160v-160H180v160Zm440 0h160v-160H620v160ZM180-180h160v-160H180v160Zm440 0h160v-160H620v160Z\"/>\n",
              "  </svg>\n",
              "    </button>\n",
              "\n",
              "  <style>\n",
              "    .colab-df-container {\n",
              "      display:flex;\n",
              "      gap: 12px;\n",
              "    }\n",
              "\n",
              "    .colab-df-convert {\n",
              "      background-color: #E8F0FE;\n",
              "      border: none;\n",
              "      border-radius: 50%;\n",
              "      cursor: pointer;\n",
              "      display: none;\n",
              "      fill: #1967D2;\n",
              "      height: 32px;\n",
              "      padding: 0 0 0 0;\n",
              "      width: 32px;\n",
              "    }\n",
              "\n",
              "    .colab-df-convert:hover {\n",
              "      background-color: #E2EBFA;\n",
              "      box-shadow: 0px 1px 2px rgba(60, 64, 67, 0.3), 0px 1px 3px 1px rgba(60, 64, 67, 0.15);\n",
              "      fill: #174EA6;\n",
              "    }\n",
              "\n",
              "    .colab-df-buttons div {\n",
              "      margin-bottom: 4px;\n",
              "    }\n",
              "\n",
              "    [theme=dark] .colab-df-convert {\n",
              "      background-color: #3B4455;\n",
              "      fill: #D2E3FC;\n",
              "    }\n",
              "\n",
              "    [theme=dark] .colab-df-convert:hover {\n",
              "      background-color: #434B5C;\n",
              "      box-shadow: 0px 1px 3px 1px rgba(0, 0, 0, 0.15);\n",
              "      filter: drop-shadow(0px 1px 2px rgba(0, 0, 0, 0.3));\n",
              "      fill: #FFFFFF;\n",
              "    }\n",
              "  </style>\n",
              "\n",
              "    <script>\n",
              "      const buttonEl =\n",
              "        document.querySelector('#df-a8a31ba2-2917-429e-8a54-9eb18d3c0798 button.colab-df-convert');\n",
              "      buttonEl.style.display =\n",
              "        google.colab.kernel.accessAllowed ? 'block' : 'none';\n",
              "\n",
              "      async function convertToInteractive(key) {\n",
              "        const element = document.querySelector('#df-a8a31ba2-2917-429e-8a54-9eb18d3c0798');\n",
              "        const dataTable =\n",
              "          await google.colab.kernel.invokeFunction('convertToInteractive',\n",
              "                                                    [key], {});\n",
              "        if (!dataTable) return;\n",
              "\n",
              "        const docLinkHtml = 'Like what you see? Visit the ' +\n",
              "          '<a target=\"_blank\" href=https://colab.research.google.com/notebooks/data_table.ipynb>data table notebook</a>'\n",
              "          + ' to learn more about interactive tables.';\n",
              "        element.innerHTML = '';\n",
              "        dataTable['output_type'] = 'display_data';\n",
              "        await google.colab.output.renderOutput(dataTable, element);\n",
              "        const docLink = document.createElement('div');\n",
              "        docLink.innerHTML = docLinkHtml;\n",
              "        element.appendChild(docLink);\n",
              "      }\n",
              "    </script>\n",
              "  </div>\n",
              "\n",
              "\n",
              "<div id=\"df-9263b842-40ea-4d1a-a038-7a3f30329ba9\">\n",
              "  <button class=\"colab-df-quickchart\" onclick=\"quickchart('df-9263b842-40ea-4d1a-a038-7a3f30329ba9')\"\n",
              "            title=\"Suggest charts.\"\n",
              "            style=\"display:none;\">\n",
              "\n",
              "<svg xmlns=\"http://www.w3.org/2000/svg\" height=\"24px\"viewBox=\"0 0 24 24\"\n",
              "     width=\"24px\">\n",
              "    <g>\n",
              "        <path d=\"M19 3H5c-1.1 0-2 .9-2 2v14c0 1.1.9 2 2 2h14c1.1 0 2-.9 2-2V5c0-1.1-.9-2-2-2zM9 17H7v-7h2v7zm4 0h-2V7h2v10zm4 0h-2v-4h2v4z\"/>\n",
              "    </g>\n",
              "</svg>\n",
              "  </button>\n",
              "\n",
              "<style>\n",
              "  .colab-df-quickchart {\n",
              "      --bg-color: #E8F0FE;\n",
              "      --fill-color: #1967D2;\n",
              "      --hover-bg-color: #E2EBFA;\n",
              "      --hover-fill-color: #174EA6;\n",
              "      --disabled-fill-color: #AAA;\n",
              "      --disabled-bg-color: #DDD;\n",
              "  }\n",
              "\n",
              "  [theme=dark] .colab-df-quickchart {\n",
              "      --bg-color: #3B4455;\n",
              "      --fill-color: #D2E3FC;\n",
              "      --hover-bg-color: #434B5C;\n",
              "      --hover-fill-color: #FFFFFF;\n",
              "      --disabled-bg-color: #3B4455;\n",
              "      --disabled-fill-color: #666;\n",
              "  }\n",
              "\n",
              "  .colab-df-quickchart {\n",
              "    background-color: var(--bg-color);\n",
              "    border: none;\n",
              "    border-radius: 50%;\n",
              "    cursor: pointer;\n",
              "    display: none;\n",
              "    fill: var(--fill-color);\n",
              "    height: 32px;\n",
              "    padding: 0;\n",
              "    width: 32px;\n",
              "  }\n",
              "\n",
              "  .colab-df-quickchart:hover {\n",
              "    background-color: var(--hover-bg-color);\n",
              "    box-shadow: 0 1px 2px rgba(60, 64, 67, 0.3), 0 1px 3px 1px rgba(60, 64, 67, 0.15);\n",
              "    fill: var(--button-hover-fill-color);\n",
              "  }\n",
              "\n",
              "  .colab-df-quickchart-complete:disabled,\n",
              "  .colab-df-quickchart-complete:disabled:hover {\n",
              "    background-color: var(--disabled-bg-color);\n",
              "    fill: var(--disabled-fill-color);\n",
              "    box-shadow: none;\n",
              "  }\n",
              "\n",
              "  .colab-df-spinner {\n",
              "    border: 2px solid var(--fill-color);\n",
              "    border-color: transparent;\n",
              "    border-bottom-color: var(--fill-color);\n",
              "    animation:\n",
              "      spin 1s steps(1) infinite;\n",
              "  }\n",
              "\n",
              "  @keyframes spin {\n",
              "    0% {\n",
              "      border-color: transparent;\n",
              "      border-bottom-color: var(--fill-color);\n",
              "      border-left-color: var(--fill-color);\n",
              "    }\n",
              "    20% {\n",
              "      border-color: transparent;\n",
              "      border-left-color: var(--fill-color);\n",
              "      border-top-color: var(--fill-color);\n",
              "    }\n",
              "    30% {\n",
              "      border-color: transparent;\n",
              "      border-left-color: var(--fill-color);\n",
              "      border-top-color: var(--fill-color);\n",
              "      border-right-color: var(--fill-color);\n",
              "    }\n",
              "    40% {\n",
              "      border-color: transparent;\n",
              "      border-right-color: var(--fill-color);\n",
              "      border-top-color: var(--fill-color);\n",
              "    }\n",
              "    60% {\n",
              "      border-color: transparent;\n",
              "      border-right-color: var(--fill-color);\n",
              "    }\n",
              "    80% {\n",
              "      border-color: transparent;\n",
              "      border-right-color: var(--fill-color);\n",
              "      border-bottom-color: var(--fill-color);\n",
              "    }\n",
              "    90% {\n",
              "      border-color: transparent;\n",
              "      border-bottom-color: var(--fill-color);\n",
              "    }\n",
              "  }\n",
              "</style>\n",
              "\n",
              "  <script>\n",
              "    async function quickchart(key) {\n",
              "      const quickchartButtonEl =\n",
              "        document.querySelector('#' + key + ' button');\n",
              "      quickchartButtonEl.disabled = true;  // To prevent multiple clicks.\n",
              "      quickchartButtonEl.classList.add('colab-df-spinner');\n",
              "      try {\n",
              "        const charts = await google.colab.kernel.invokeFunction(\n",
              "            'suggestCharts', [key], {});\n",
              "      } catch (error) {\n",
              "        console.error('Error during call to suggestCharts:', error);\n",
              "      }\n",
              "      quickchartButtonEl.classList.remove('colab-df-spinner');\n",
              "      quickchartButtonEl.classList.add('colab-df-quickchart-complete');\n",
              "    }\n",
              "    (() => {\n",
              "      let quickchartButtonEl =\n",
              "        document.querySelector('#df-9263b842-40ea-4d1a-a038-7a3f30329ba9 button');\n",
              "      quickchartButtonEl.style.display =\n",
              "        google.colab.kernel.accessAllowed ? 'block' : 'none';\n",
              "    })();\n",
              "  </script>\n",
              "</div>\n",
              "    </div>\n",
              "  </div>\n"
            ]
          },
          "metadata": {},
          "execution_count": 297
        }
      ]
    },
    {
      "cell_type": "markdown",
      "source": [
        "#### Deminsion Reduction"
      ],
      "metadata": {
        "id": "_8m-633qq7nH"
      }
    },
    {
      "cell_type": "code",
      "source": [
        "train_sample_embeddings = get_embeddings_BH_tNSE(train_samples, n_components=2, init_solution='random', random_state=0, perplexity=5)\n",
        "print(train_sample_embeddings.shape)\n",
        "print(train_sample_embeddings[:, 0])"
      ],
      "metadata": {
        "id": "Esyg3VzvrA8X",
        "colab": {
          "base_uri": "https://localhost:8080/"
        },
        "outputId": "5c88ad9e-4de5-4a01-953f-06e8bf7176f3"
      },
      "execution_count": 298,
      "outputs": [
        {
          "output_type": "stream",
          "name": "stdout",
          "text": [
            "(2418, 2)\n",
            "[ 54.100506   -3.6895933 -35.118214  ... -35.3737     16.77057\n",
            "  20.311384 ]\n"
          ]
        }
      ]
    },
    {
      "cell_type": "markdown",
      "source": [
        "#### Scatter Plot 2D"
      ],
      "metadata": {
        "id": "3dSIhCmPVBxs"
      }
    },
    {
      "cell_type": "markdown",
      "source": [
        "##### Scatter Plot with respect to label"
      ],
      "metadata": {
        "id": "Y4cr6ZdFnVsR"
      }
    },
    {
      "cell_type": "code",
      "source": [
        "# test if indices correctly extracted\n",
        "print(train_samples_indices)"
      ],
      "metadata": {
        "colab": {
          "base_uri": "https://localhost:8080/"
        },
        "id": "gHXf0txonZG_",
        "outputId": "45a5ba11-9ce7-4c17-c7a1-b98aee184f23"
      },
      "execution_count": 299,
      "outputs": [
        {
          "output_type": "stream",
          "name": "stdout",
          "text": [
            "[4852, 5917, 945, 9319, 3347, 4808, 6086, 423, 4669, 6557, 6445, 5385, 98, 136, 1631, 5569, 6176, 3143, 3170, 5597, 7156, 9246, 6765, 1853, 7529, 9803, 233, 6191, 7770, 3160, 8167, 519, 4027, 5178, 6567, 8153, 8983, 8988, 2053, 5544, 4579, 3418, 3714, 4035, 4575, 5107, 7874, 4771, 9859, 505, 7, 708, 1464, 2708, 2970, 3316, 3333, 4683, 4798, 5209, 7390, 7567, 8193, 9815, 9827, 856, 3124, 6988, 8644, 9097, 1783, 153, 1847, 2139, 2615, 3003, 4571, 6635, 7089, 9229, 5471, 6054, 7527, 8846, 951, 252, 453, 1822, 2363, 2770, 4585, 6876, 7094, 7419, 7605, 8768, 8973, 9486, 471, 3009, 4371, 5341, 6642, 8263, 116, 295, 3404, 1525, 824, 2049, 2651, 3328, 4198, 4901, 6113, 6434, 6581, 8025, 8328, 9169, 4849, 6490, 6587, 5273, 157, 2657, 4450, 837, 900, 947, 987, 2415, 3264, 3625, 4026, 7693, 8145, 8180, 8858, 3153, 3581, 5708, 6020, 6124, 8121, 9194, 840, 6300, 871, 2944, 3417, 3573, 4020, 4545, 4605, 5327, 5882, 6384, 6607, 7394, 7411, 7496, 7501, 7521, 9024, 9382, 9416, 9683, 26, 1696, 1769, 2778, 3161, 4473, 5977, 6286, 7517, 8053, 8899, 9315, 9498, 1986, 2047, 3477, 3860, 4174, 6043, 9353, 6123, 2299, 3239, 4252, 4336, 6630, 7971, 8352, 9872, 1770, 2621, 5619, 7943, 287, 6243, 6408, 8015, 2585, 4247, 261, 1687, 2994, 3299, 3363, 3649, 3680, 4375, 5413, 6241, 6720, 8766, 649, 807, 3201, 3375, 3529, 5980, 2678, 2759, 4582, 5810, 6731, 8369, 3151, 4565, 4573, 9953, 1668, 9400, 9935, 1427, 2033, 4929, 5749, 6497, 8976, 668, 2562, 3403, 4536, 5282, 5339, 6645, 7024, 7637, 7709, 9825, 979, 1293, 1564, 5674, 5809, 4593, 5298, 7311, 755, 803, 529, 1459, 1569, 2265, 2897, 5130, 1891, 3920, 5910, 6177, 8394, 2191, 3741, 4154, 4589, 4709, 5046, 9968, 2050, 2414, 7241, 7388, 8901, 696, 6852, 8080, 3060, 638, 3176, 6299, 6555, 6828, 9585, 9619, 333, 1543, 2243, 2717, 4378, 4697, 5986, 6411, 6436, 6665, 7317, 7391, 8041, 8147, 3048, 7166, 7618, 7664, 7772, 215, 2635, 4492, 5047, 5379, 9025, 9945, 5070, 9255, 1089, 2616, 3800, 4655, 7212, 9049, 1709, 2003, 2344, 2556, 3011, 4588, 5222, 6173, 6208, 6810, 7359, 7560, 8083, 8490, 8956, 9103, 9108, 502, 1327, 1575, 2043, 2263, 3317, 4344, 5207, 5336, 5816, 5890, 6335, 3942, 5768, 6751, 8067, 9732, 7313, 651, 3413, 3966, 4293, 4893, 6426, 7912, 9808, 715, 1013, 1057, 2297, 2339, 2509, 3487, 5288, 5401, 5453, 5893, 8356, 8494, 9823, 3597, 4467, 6040, 6766, 8205, 169, 3509, 9347, 8360, 8972, 9253, 9514, 2470, 3420, 4895, 7843, 162, 1644, 2800, 3955, 4057, 4558, 5050, 5961, 6283, 6376, 363, 1383, 2655, 2688, 3154, 3450, 4395, 4957, 7197, 7296, 9882, 263, 1250, 2154, 3377, 4435, 5277, 5532, 5637, 5850, 6260, 1062, 6492, 8032, 9890, 1008, 2909, 4296, 6002, 6896, 7794, 556, 865, 1866, 2057, 5716, 7593, 8921, 375, 1040, 1190, 2472, 3007, 5561, 6638, 7306, 7481, 9106, 36, 467, 475, 2625, 2722, 5509, 6400, 6425, 6549, 6756, 7731, 9282, 514, 2221, 2788, 3535, 6116, 7645, 1012, 4136, 4365, 5139, 5880, 8051, 9178, 3885, 5040, 7950, 8194, 754, 5102, 269, 1200, 1516, 1796, 2957, 4389, 6391, 8937, 9218, 9659, 3633, 3828, 4177, 5272, 5483, 5634, 6471, 6886, 7903, 9031, 9087, 9234, 9393, 9603, 9669, 9708, 1460, 1984, 2331, 2877, 2921, 2992, 3698, 4478, 4864, 5087, 6245, 6535, 9185, 427, 1071, 1288, 2062, 2152, 3778, 4109, 4373, 5389, 7211, 8800, 9005, 646, 1343, 2486, 3874, 3900, 4786, 4959, 5447, 6163, 6716, 7147, 7358, 7876, 8144, 8912, 9115, 9642, 307, 316, 1055, 2886, 4125, 8295, 2685, 3592, 588, 4900, 6957, 3308, 574, 2947, 1315, 3555, 8461, 9963, 30, 41, 133, 658, 675, 1312, 4912, 5627, 6647, 6749, 7161, 7992, 8533, 8573, 554, 620, 1206, 2457, 3441, 3711, 4749, 5036, 5283, 5707, 5985, 6247, 7014, 7563, 7792, 9391, 9476, 9741, 1020, 1208, 1803, 2692, 2751, 4807, 5286, 6042, 71, 1195, 2155, 2161, 2683, 3288, 9487, 8929, 898, 4484, 2458, 402, 431, 732, 1009, 7349, 9795, 338, 834, 1884, 1895, 2535, 2703, 3813, 3936, 4187, 4757, 4853, 6120, 6306, 6480, 7468, 8580, 1956, 2032, 3169, 3371, 4685, 4991, 5287, 5492, 5722, 6371, 7233, 7817, 9596, 225, 999, 2867, 3525, 5143, 5737, 5803, 6003, 6370, 6427, 6449, 6478, 7050, 7661, 7854, 8018, 8603, 9509, 9832, 710, 3374, 3591, 4153, 4434, 6046, 6554, 7019, 7668, 8723, 9553, 9556, 1732, 2911, 3916, 7295, 1046, 2475, 4300, 5594, 9856, 1031, 4846, 6619, 1011, 1663, 2093, 2955, 3533, 3684, 4704, 6251, 9754, 1625, 1964, 2834, 2975, 4032, 4980, 5799, 5953, 6207, 6259, 7149, 8659, 8946, 9112, 9131, 9217, 65, 193, 205, 294, 515, 1303, 1478, 1760, 2219, 2304, 2727, 3623, 3866, 4408, 4420, 4940, 5372, 6175, 6280, 6491, 7819, 326, 820, 1255, 1433, 1438, 2159, 2467, 2733, 3166, 3455, 4513, 7188, 7479, 8264, 8823, 9633, 879, 1559, 3080, 3419, 4888, 5110, 5652, 5701, 6864, 8792, 8816, 9310, 753, 1279, 2338, 2361, 6282, 6583, 8495, 1846, 2895, 5340, 5630, 6128, 2336, 5345, 9916, 3228, 6341, 1308, 4178, 8607, 762, 1929, 3598, 3622, 5618, 6392, 6721, 8004, 8033, 8204, 8343, 9918, 290, 336, 609, 1207, 1251, 3237, 4059, 4131, 5291, 6023, 7033, 7667, 7883, 8483, 9006, 384, 874, 907, 1158, 1655, 1746, 1829, 2072, 2582, 3137, 3167, 3275, 4394, 4564, 5588, 5875, 5897, 6348, 6840, 6938, 7682, 8445, 9034, 9048, 9086, 9526, 9838, 9930, 374, 2095, 2647, 3125, 3396, 4329, 4613, 5970, 6552, 7011, 7970, 8510, 8591, 9301, 9870, 1823, 1869, 2553, 2865, 3090, 4422, 4440, 4530, 7898, 8146, 8914, 476, 1126, 1135, 2342, 2702, 4210, 4712, 7414, 8284, 9075, 4182, 218, 9666, 3729, 4527, 7609, 8125, 1398, 2456, 3118, 3836, 5267, 5784, 7466, 8215, 9285, 920, 1706, 2518, 3221, 3262, 4223, 4581, 4645, 4820, 5863, 6713, 6813, 7223, 7554, 7680, 8092, 8124, 8224, 9876, 45, 745, 2035, 2943, 4752, 4830, 4985, 5228, 5889, 6005, 6187, 6662, 6671, 7484, 7707, 8233, 8302, 8375, 8526, 9467, 9474, 122, 611, 714, 908, 1221, 1259, 1406, 1752, 2328, 2524, 2815, 3115, 4960, 5229, 5346, 5363, 8430, 9140, 9759, 76, 2604, 2746, 3474, 4015, 5068, 5078, 5425, 5448, 5555, 5557, 6004, 6267, 6486, 6859, 7068, 8757, 9566, 9826, 9858, 590, 2705, 3034, 4500, 6139, 6592, 7279, 7656, 9082, 9591, 459, 3888, 4218, 5840, 3252, 4140, 2937, 1671, 2100, 4661, 6589, 6908, 8095, 9906, 117, 1054, 2173, 5038, 5041, 6380, 6533, 6768, 7008, 7041, 7598, 8649, 9489, 1061, 1483, 2203, 2345, 3312, 3540, 4915, 5641, 6291, 6754, 9413, 297, 527, 2366, 2369, 2412, 2769, 2882, 2993, 4390, 4637, 5653, 5757, 5939, 5976, 6074, 6465, 7120, 7248, 7524, 8515, 8787, 9062, 9259, 9377, 9714, 9959, 78, 123, 540, 660, 741, 1122, 1587, 2321, 3439, 3732, 3903, 4080, 4678, 4793, 5258, 5316, 5390, 5969, 5987, 6966, 7145, 8281, 9453, 9816, 38, 139, 306, 552, 887, 918, 965, 1050, 1236, 1290, 1439, 2567, 3452, 3609, 3976, 4346, 4392, 4552, 5128, 5503, 5695, 6458, 6920, 7172, 8140, 8186, 8782, 8847, 8919, 9873, 408, 1067, 1093, 3731, 3742, 6136, 6507, 7271, 7780, 8227, 8883, 9155, 1370, 1988, 2905, 4460, 4676, 7125, 9991, 1473, 1545, 2039, 2150, 8470, 132, 418, 6858, 8704, 550, 3100, 3556, 9264, 17, 1624, 3919, 4910, 6320, 8098, 503, 1615, 1661, 1773, 1957, 2318, 2422, 4783, 5048, 5064, 6155, 7428, 7465, 8482, 8862, 9066, 9269, 9810, 9931, 619, 726, 1162, 1461, 2395, 2399, 2653, 2734, 2836, 3294, 3341, 3484, 3661, 4233, 4453, 4524, 5659, 5755, 6006, 6018, 6214, 6236, 6633, 7504, 8027, 8177, 8225, 8801, 9219, 18, 134, 255, 310, 1010, 1045, 1328, 2690, 2726, 3099, 4019, 4314, 4767, 4858, 4883, 4924, 5150, 6184, 6531, 6580, 6774, 7232, 7706, 8633, 8848, 8951, 9044, 9385, 9461, 1214, 1890, 2614, 3366, 4034, 4063, 4625, 5028, 5095, 5103, 5112, 5154, 6407, 7641, 8357, 9302, 9694, 83, 241, 322, 355, 1548, 1982, 2201, 2538, 2658, 3117, 3348, 4171, 4515, 5148, 6368, 7148, 7705, 7951, 9485, 9690, 9812, 628, 826, 988, 4137, 6085, 8552, 9748, 2079, 3906, 5205, 5269, 6550, 7347, 778, 2446, 7299, 1643, 3189, 7837, 8939, 3207, 6098, 6349, 8283, 8927, 9015, 9575, 199, 724, 1167, 2128, 2354, 3217, 3792, 4212, 4345, 4804, 5184, 6092, 7581, 9639, 1, 72, 359, 458, 802, 822, 1124, 1240, 1421, 1824, 1969, 2819, 2844, 3298, 3473, 3794, 3870, 4190, 4466, 5415, 5761, 5847, 5884, 5966, 6431, 6723, 6800, 7961, 9482, 410, 629, 924, 1041, 1257, 1608, 1678, 1800, 2081, 2223, 2407, 2940, 2950, 3023, 3162, 3310, 3890, 4309, 4348, 4498, 5360, 5696, 5834, 5914, 6914, 6943, 7679, 7977, 8149, 8390, 8513, 8629, 8786, 8922, 9272, 9703, 690, 1648, 1905, 2398, 3140, 3544, 3657, 3849, 4261, 4448, 4964, 5280, 5305, 5469, 5506, 6087, 6326, 6350, 6725, 7195, 7426, 7508, 7726, 8155, 8484, 8982, 9444, 9844, 312, 1322, 1857, 2132, 3409, 3531, 3673, 3791, 4191, 4488, 4738, 6353, 6468, 6825, 6951, 7015, 7227, 7355, 8190, 8221, 8267, 9287, 9423, 61, 305, 610, 894, 1948, 2448, 4025, 4506, 4708, 5126, 5245, 5460, 5543, 5692, 5738, 5912, 6052, 7036, 8120, 8195, 8285, 8386, 8458, 9027, 9060, 2364, 3532, 4444, 5560, 6600, 6636, 7144, 8428, 8502, 5479, 5818, 3087, 5444, 194, 267, 1576, 2069, 6682, 210, 1414, 1607, 1831, 3133, 3655, 7423, 8572, 9159, 9739, 253, 857, 1471, 1968, 2392, 2449, 3410, 3563, 6225, 6664, 6932, 7673, 7859, 7873, 8230, 8277, 8278, 8322, 8994, 9313, 9438, 9451, 362, 464, 967, 1073, 1347, 1684, 1737, 2073, 2435, 2565, 2617, 2637, 3227, 3444, 4551, 4890, 5891, 6253, 6669, 6685, 7030, 7895, 7910, 8679, 8733, 8845, 8924, 9275, 9672, 9979, 101, 140, 546, 632, 1213, 1309, 1742, 2005, 2252, 2261, 2365, 2390, 2507, 2932, 3076, 3088, 3132, 3428, 3835, 3907, 4120, 4412, 4607, 4927, 4999, 5106, 5213, 5572, 5664, 5697, 5997, 6101, 6115, 6361, 7018, 7025, 7200, 7245, 7384, 7715, 7920, 8546, 8701, 8707, 8762, 8889, 9069, 9117, 9145, 9176, 9464, 9537, 84, 146, 154, 543, 702, 742, 1024, 1026, 1070, 1116, 1387, 1444, 1641, 1845, 2143, 2417, 2484, 2532, 2953, 3058, 3382, 3542, 3626, 3628, 3972, 4833, 4843, 4905, 5203, 5502, 5510, 5846, 6302, 6345, 6582, 6826, 6850, 6863, 6877, 7718, 7924, 7972, 8541, 8654, 8788, 8886, 9146, 9401, 9455, 9508, 9531, 9972, 262, 971, 1150, 1275, 1514, 1529, 1634, 1935, 2026, 2213, 2496, 2796, 3196, 3801, 3809, 3970, 4304, 4580, 4887, 5329, 5673, 5935, 6461, 6781, 6917, 6968, 7314, 7612, 7674, 8254, 8583, 8682, 8837, 8879, 9764, 212, 224, 906, 1205, 1217, 2160, 2400, 2526, 2646, 2662, 2833, 3012, 3381, 4522, 5014, 5278, 6075, 7522, 7696, 8114, 8380, 8662, 9078, 9431, 9568, 9641, 1375, 1479, 1636, 2110, 5638, 6537, 7860, 8049, 8170, 8464, 4517, 9747, 2273, 3380, 3891, 5879, 6401, 7087, 7274, 463, 1561, 5841, 6718, 8416, 8829, 9244, 9587, 90, 756, 2686, 5319, 6609, 6613, 6794, 6845, 7847, 8421, 8529, 8626, 9834, 161, 810, 1094, 1099, 1268, 1416, 1542, 2284, 2362, 2998, 3089, 3501, 3871, 3992, 4323, 4673, 5468, 6151, 6182, 6314, 6696, 6747, 7072, 7835, 7877, 8320, 8383, 8531, 8958, 426, 1157, 1283, 1344, 1562, 1836, 1942, 1976, 2247, 2878, 2929, 3042, 3244, 3616, 3690, 3740, 4192, 4232, 4739, 4995, 5027, 5758, 5829, 6108, 6272, 6279, 6606, 6719, 6741, 6799, 7013, 7904, 7940, 8110, 8340, 8496, 8585, 8614, 8761, 8841, 8850, 9254, 9944, 9956, 404, 559, 608, 621, 1404, 1722, 2158, 2216, 2278, 2564, 2942, 2991, 3152, 3360, 3712, 3940, 3957, 4276, 4364, 4569, 4671, 4688, 4774, 4834, 4885, 4988, 5063, 5159, 5632, 5670, 5825, 5872, 6174, 6918, 7070, 7108, 7152, 7225, 7346, 7412, 7464, 7495, 7712, 7866, 8235, 8266, 8455, 8489, 8554, 8632, 8799, 8849, 8871, 9226, 9552, 9567, 9746, 192, 396, 528, 597, 647, 665, 1121, 1151, 1164, 1219, 1271, 1474, 1518, 1586, 1790, 1844, 2018, 2182, 2200, 2268, 2430, 2542, 2773, 2941, 3425, 3446, 3815, 3854, 4029, 4042, 4152, 4227, 4243, 4253, 4324, 4342, 4692, 4871, 4976, 5089, 5321, 5330, 5596, 5683, 5866, 5972, 6072, 6456, 6614, 6901, 7309, 7337, 7380, 7418, 7750, 7767, 7806, 7868, 8013, 8159, 8214, 8257, 8410, 8425, 8453, 8486, 8499, 8522, 8868, 9056, 9357, 9411, 9419, 9497, 9687, 9970, 240, 1048, 1049, 1056, 1235, 1410, 1554, 1808, 2014, 2030, 2420, 2463, 2522, 2639, 2767, 2817, 2858, 3002, 3010, 3013, 3229, 3234, 3340, 3811, 4064, 4228, 4332, 4502, 5216, 5302, 5326, 5676, 5688, 5750, 6255, 6498, 6979, 7132, 7146, 7226, 7742, 7840, 8562, 9216, 9270, 9293, 9787, 9863, 9924, 9995, 440, 674, 930, 1120, 2202, 2552, 2619, 2986, 3406, 3918, 4081, 4160, 5084, 5754, 5828, 6889, 7647, 8115, 8310, 8480, 8628, 8803, 8884, 9257, 9492, 9563, 1350, 1567, 4737, 7141, 7397, 980, 1779, 2433, 4417, 7937, 2743, 3615, 5172, 5571, 9934, 64, 593, 637, 2007, 2799, 2915, 3044, 3867, 4283, 4695, 5384, 5607, 6212, 6377, 6623, 6676, 7039, 7666, 8342, 8993, 9784, 156, 281, 689, 750, 768, 808, 1193, 1378, 1467, 2147, 2410, 3659, 6140, 6890, 7364, 7487, 7489, 7586, 9427, 9607, 349, 633, 659, 890, 1141, 1487, 2051, 2900, 2923, 3005, 3261, 3353, 3440, 3454, 3518, 4049, 4068, 4076, 4311, 4399, 4459, 4662, 4857, 5243, 5950, 6081, 6159, 6200, 6223, 6308, 6495, 6883, 7409, 7493, 7688, 7818, 8424, 8728, 8856, 9291, 9365, 9926, 81, 220, 706, 1681, 1879, 1981, 2078, 2320, 2427, 2466, 2775, 2924, 3031, 3039, 3098, 3123, 3194, 3383, 3723, 3765, 4101, 4129, 4259, 4403, 4881, 4948, 5152, 5301, 5452, 5533, 5537, 5598, 6025, 6457, 6601, 6915, 7031, 7207, 8189, 8273, 8459, 8535, 8930, 9359, 9381, 9449, 9569, 9745, 9781, 9925, 21, 231, 268, 461, 518, 569, 591, 739, 842, 991, 1029, 1088, 1127, 1316, 1656, 1702, 1814, 1979, 2286, 2402, 2442, 2563, 2784, 2823, 2893, 2930, 2968, 3027, 3072, 3187, 3251, 3400, 3691, 3703, 3727, 3734, 3737, 3943, 3948, 4002, 4367, 4819, 4880, 4925, 5042, 5065, 5404, 5577, 5666, 5709, 6059, 6430, 6758, 6817, 6897, 6934, 6949, 6959, 7006, 7204, 7323, 7592, 7869, 7925, 8008, 8191, 8229, 8270, 8314, 8414, 8444, 8457, 8463, 8467, 8503, 8558, 8665, 8680, 8735, 8755, 8772, 8834, 8966, 9256, 9373, 9379, 9481, 9542, 9614, 4, 28, 150, 228, 470, 749, 866, 958, 1001, 1137, 1149, 1177, 1243, 1339, 1477, 1509, 1568, 1612, 1878, 1980, 2108, 2209, 2211, 2510, 2677, 2785, 3026, 3032, 3218, 3424, 3502, 3567, 3664, 3688, 3707, 3756, 3793, 3827, 3969, 3984, 4246, 4272, 4279, 4421, 4510, 4562, 4603, 4650, 4822, 4836, 4958, 4972, 4990, 5192, 5220, 5800, 6154, 6250, 6284, 6452, 6634, 6746, 6778, 6814, 6885, 6987, 6994, 7203, 7247, 7301, 7436, 7570, 7730, 7789, 7833, 7853, 7880, 7889, 7984, 8349, 8400, 8447, 8532, 8548, 8842, 8920, 9091, 9289, 9322, 9369, 9581, 9788, 9830, 9867, 9996, 67, 416, 485, 627, 644, 858, 892, 969, 1117, 1364, 1405, 1484, 1497, 1535, 1944, 2881, 2958, 3254, 3510, 3570, 3580, 3747, 3923, 4024, 4116, 4352, 4499, 4634, 4829, 5276, 5710, 5957, 5992, 6197, 6503, 6857, 6911, 6946, 7160, 7293, 7387, 7541, 7741, 7786, 8259, 8429, 8543, 8639, 8689, 8709, 8865, 8866, 9104, 9199, 9258, 9294, 9389, 9521, 9550, 9588, 9608, 9738, 9864, 2169, 625, 4968]\n"
          ]
        }
      ]
    },
    {
      "cell_type": "code",
      "source": [
        "labels = []\n",
        "for i in train_samples_indices:\n",
        "  labels.append(y[i])"
      ],
      "metadata": {
        "id": "EOogAYB-wLfi"
      },
      "execution_count": 300,
      "outputs": []
    },
    {
      "cell_type": "code",
      "source": [
        "# test if labels correctly extracted\n",
        "print(labels)"
      ],
      "metadata": {
        "colab": {
          "base_uri": "https://localhost:8080/"
        },
        "id": "RJA2LKgBw_7S",
        "outputId": "52b0bf8a-fee1-4b3b-cb54-7535ff939085"
      },
      "execution_count": 301,
      "outputs": [
        {
          "output_type": "stream",
          "name": "stdout",
          "text": [
            "[0, 8, 4, 3, 3, 3, 5, 9, 8, 5, 2, 6, 3, 3, 3, 7, 7, 0, 5, 8, 3, 2, 9, 8, 9, 1, 2, 9, 7, 0, 7, 0, 0, 7, 6, 6, 2, 5, 2, 9, 3, 1, 1, 4, 7, 1, 0, 9, 5, 7, 3, 8, 8, 1, 1, 9, 2, 6, 4, 9, 5, 2, 0, 1, 9, 3, 3, 5, 4, 7, 8, 9, 5, 8, 0, 8, 7, 6, 1, 9, 3, 7, 7, 6, 1, 2, 0, 1, 5, 0, 1, 6, 9, 5, 7, 4, 4, 6, 9, 4, 2, 9, 2, 5, 9, 8, 3, 7, 7, 5, 5, 0, 6, 9, 0, 5, 6, 2, 6, 2, 0, 4, 7, 6, 3, 6, 5, 5, 9, 5, 4, 1, 3, 4, 9, 1, 6, 1, 2, 8, 8, 1, 1, 2, 6, 0, 3, 5, 1, 0, 4, 4, 7, 7, 6, 0, 1, 1, 0, 2, 1, 1, 3, 3, 6, 7, 7, 9, 4, 1, 0, 7, 2, 4, 8, 3, 4, 1, 9, 1, 7, 6, 1, 4, 5, 4, 1, 4, 3, 9, 4, 4, 4, 0, 1, 6, 6, 7, 0, 6, 7, 5, 8, 1, 9, 2, 5, 6, 7, 1, 8, 6, 9, 2, 8, 6, 7, 6, 5, 6, 2, 3, 1, 0, 3, 8, 7, 8, 6, 8, 0, 7, 0, 5, 3, 3, 3, 8, 2, 9, 9, 1, 3, 3, 0, 9, 6, 6, 9, 9, 0, 5, 4, 0, 9, 0, 1, 7, 0, 0, 4, 0, 5, 9, 7, 9, 9, 9, 8, 0, 9, 7, 3, 6, 5, 1, 0, 2, 3, 9, 6, 4, 9, 4, 5, 9, 7, 0, 2, 5, 1, 7, 1, 2, 3, 5, 6, 4, 6, 8, 8, 8, 1, 9, 2, 7, 1, 1, 1, 1, 0, 4, 0, 3, 4, 3, 0, 2, 3, 6, 1, 4, 3, 4, 5, 6, 3, 5, 1, 1, 0, 6, 6, 0, 4, 7, 6, 8, 0, 6, 7, 1, 4, 8, 4, 1, 2, 4, 1, 4, 5, 6, 5, 8, 3, 7, 0, 3, 1, 2, 2, 8, 7, 7, 9, 8, 8, 2, 7, 2, 1, 2, 7, 5, 1, 6, 3, 8, 7, 7, 3, 9, 1, 0, 4, 5, 9, 9, 3, 0, 6, 1, 3, 3, 7, 0, 1, 9, 3, 2, 3, 5, 6, 8, 9, 4, 9, 3, 4, 1, 5, 5, 8, 0, 4, 9, 4, 9, 5, 1, 8, 4, 7, 3, 7, 4, 7, 7, 9, 1, 0, 1, 3, 9, 3, 1, 4, 5, 2, 1, 0, 4, 7, 7, 1, 8, 3, 1, 8, 6, 8, 7, 6, 2, 2, 0, 6, 2, 5, 6, 6, 7, 5, 1, 6, 7, 1, 2, 9, 2, 0, 2, 2, 7, 7, 4, 5, 9, 3, 5, 1, 8, 1, 3, 6, 3, 4, 1, 8, 1, 6, 7, 1, 4, 3, 1, 1, 5, 0, 1, 0, 2, 1, 2, 6, 7, 4, 5, 0, 1, 6, 5, 9, 4, 2, 2, 8, 1, 7, 7, 9, 4, 9, 9, 2, 5, 6, 0, 7, 3, 8, 0, 9, 8, 0, 5, 5, 6, 6, 0, 1, 3, 8, 4, 3, 0, 2, 7, 6, 9, 1, 5, 4, 7, 8, 4, 3, 0, 1, 7, 0, 7, 9, 7, 5, 3, 3, 4, 3, 8, 1, 2, 1, 8, 2, 3, 6, 3, 8, 6, 0, 3, 8, 9, 6, 3, 3, 9, 0, 1, 5, 2, 7, 0, 2, 5, 5, 5, 2, 0, 8, 0, 3, 7, 2, 2, 1, 2, 1, 2, 4, 0, 4, 6, 7, 7, 1, 3, 1, 0, 9, 7, 0, 8, 7, 8, 6, 1, 6, 7, 1, 4, 4, 6, 2, 8, 1, 4, 4, 4, 9, 9, 3, 9, 2, 6, 2, 4, 8, 4, 9, 2, 9, 4, 0, 4, 9, 9, 1, 7, 4, 9, 2, 1, 9, 4, 6, 8, 6, 7, 5, 3, 5, 9, 1, 5, 3, 4, 2, 0, 6, 4, 3, 4, 2, 8, 1, 9, 3, 2, 8, 7, 1, 4, 1, 0, 3, 6, 9, 9, 7, 3, 0, 8, 1, 8, 1, 1, 2, 0, 2, 4, 6, 0, 9, 3, 5, 3, 9, 0, 8, 3, 0, 9, 6, 3, 7, 0, 7, 1, 8, 3, 8, 0, 6, 5, 7, 1, 4, 2, 6, 2, 8, 9, 5, 5, 6, 8, 6, 1, 5, 8, 3, 7, 9, 1, 0, 7, 2, 5, 2, 1, 4, 2, 2, 4, 4, 1, 8, 3, 1, 9, 5, 3, 1, 5, 7, 2, 7, 9, 1, 6, 3, 0, 7, 8, 4, 4, 3, 8, 4, 7, 3, 0, 1, 4, 1, 2, 3, 7, 0, 4, 4, 8, 6, 5, 9, 0, 2, 6, 6, 6, 8, 2, 0, 8, 1, 4, 1, 8, 7, 1, 6, 7, 7, 0, 7, 9, 4, 7, 3, 7, 3, 2, 3, 7, 7, 3, 4, 0, 5, 7, 5, 7, 4, 3, 3, 7, 2, 5, 8, 8, 1, 0, 0, 7, 6, 9, 1, 9, 7, 4, 4, 0, 9, 4, 3, 4, 4, 6, 9, 2, 2, 9, 2, 6, 9, 7, 9, 7, 8, 7, 1, 6, 4, 2, 7, 5, 2, 9, 6, 6, 2, 0, 6, 2, 6, 0, 1, 0, 1, 8, 6, 3, 5, 2, 6, 7, 0, 4, 8, 1, 6, 2, 6, 0, 3, 3, 5, 5, 4, 7, 9, 2, 2, 9, 1, 1, 6, 9, 9, 0, 6, 4, 5, 9, 0, 0, 6, 2, 8, 3, 5, 2, 0, 0, 7, 7, 6, 7, 1, 2, 7, 2, 7, 9, 1, 5, 5, 5, 3, 9, 6, 1, 9, 8, 5, 1, 3, 3, 2, 1, 0, 6, 5, 7, 8, 1, 7, 7, 8, 5, 6, 6, 1, 5, 5, 4, 2, 5, 4, 3, 3, 0, 6, 3, 5, 1, 7, 8, 3, 0, 0, 1, 7, 1, 1, 6, 0, 7, 9, 7, 1, 1, 2, 7, 7, 4, 3, 1, 8, 0, 6, 2, 6, 5, 2, 9, 1, 3, 6, 4, 1, 2, 0, 3, 3, 3, 4, 0, 1, 8, 5, 2, 0, 5, 1, 8, 5, 5, 5, 7, 9, 2, 4, 4, 1, 0, 4, 5, 5, 2, 4, 3, 1, 7, 3, 6, 9, 9, 5, 9, 4, 4, 4, 2, 9, 0, 2, 9, 9, 4, 3, 3, 4, 4, 1, 6, 7, 4, 5, 1, 9, 7, 0, 4, 8, 3, 8, 3, 3, 3, 8, 4, 6, 3, 1, 9, 8, 1, 3, 5, 6, 7, 8, 9, 1, 8, 1, 8, 0, 7, 9, 8, 7, 0, 2, 3, 2, 8, 9, 2, 3, 4, 1, 7, 3, 4, 4, 1, 8, 2, 5, 8, 3, 1, 9, 4, 7, 1, 8, 2, 6, 6, 0, 0, 8, 5, 3, 8, 6, 1, 6, 3, 0, 4, 9, 2, 0, 8, 6, 9, 0, 9, 4, 2, 8, 5, 4, 5, 2, 7, 3, 6, 6, 2, 4, 0, 3, 0, 1, 2, 4, 8, 5, 8, 6, 2, 6, 5, 1, 6, 7, 8, 6, 1, 3, 1, 2, 8, 5, 5, 3, 9, 9, 6, 8, 7, 3, 1, 4, 4, 1, 8, 8, 5, 2, 1, 6, 8, 5, 4, 4, 8, 6, 6, 6, 7, 8, 5, 5, 2, 2, 8, 0, 5, 6, 6, 3, 8, 6, 6, 9, 1, 1, 7, 2, 0, 7, 4, 9, 5, 5, 3, 9, 9, 4, 1, 0, 5, 3, 8, 9, 4, 1, 6, 2, 2, 0, 0, 8, 7, 7, 2, 5, 1, 4, 9, 7, 1, 2, 6, 3, 2, 7, 5, 6, 2, 2, 7, 9, 3, 2, 4, 8, 2, 9, 0, 3, 9, 6, 3, 0, 1, 0, 0, 6, 9, 2, 6, 9, 5, 0, 4, 7, 7, 1, 6, 5, 1, 9, 2, 7, 5, 0, 1, 5, 0, 6, 7, 3, 2, 3, 5, 6, 6, 7, 0, 2, 0, 7, 4, 8, 7, 2, 7, 9, 2, 5, 8, 4, 8, 8, 1, 2, 7, 8, 7, 9, 6, 2, 1, 7, 3, 2, 3, 0, 5, 2, 9, 9, 7, 9, 8, 0, 8, 8, 7, 7, 1, 0, 5, 7, 0, 3, 2, 6, 4, 8, 4, 9, 9, 0, 7, 8, 8, 7, 0, 3, 0, 7, 0, 2, 3, 0, 0, 8, 0, 3, 1, 6, 4, 0, 5, 8, 7, 0, 1, 4, 7, 5, 4, 8, 1, 9, 3, 1, 6, 1, 8, 1, 0, 3, 7, 1, 4, 3, 3, 8, 8, 4, 0, 7, 9, 1, 0, 0, 7, 5, 5, 2, 7, 1, 7, 7, 4, 4, 9, 4, 4, 1, 0, 6, 1, 1, 2, 3, 7, 7, 5, 3, 2, 3, 0, 9, 4, 4, 0, 5, 9, 5, 7, 2, 2, 9, 3, 2, 4, 9, 6, 0, 6, 0, 9, 0, 4, 4, 7, 9, 3, 2, 0, 2, 0, 6, 9, 2, 7, 4, 4, 4, 4, 2, 3, 2, 1, 1, 6, 7, 2, 9, 2, 2, 7, 7, 3, 7, 2, 6, 0, 6, 3, 2, 6, 4, 8, 1, 9, 4, 1, 7, 3, 5, 1, 1, 0, 8, 2, 9, 6, 9, 9, 0, 8, 4, 7, 7, 0, 0, 9, 9, 7, 6, 2, 6, 8, 2, 3, 8, 1, 8, 4, 9, 5, 8, 7, 8, 9, 5, 0, 4, 5, 8, 6, 9, 0, 2, 8, 4, 5, 7, 4, 0, 9, 6, 9, 3, 3, 1, 5, 4, 2, 6, 0, 0, 3, 6, 0, 9, 8, 3, 9, 3, 1, 6, 8, 6, 3, 9, 0, 2, 3, 3, 0, 2, 5, 2, 2, 7, 3, 4, 5, 3, 3, 3, 8, 7, 6, 3, 8, 5, 0, 9, 5, 8, 8, 6, 4, 6, 0, 5, 0, 0, 7, 2, 8, 3, 4, 0, 9, 3, 8, 7, 1, 4, 7, 7, 0, 8, 0, 5, 6, 8, 0, 2, 4, 7, 4, 1, 6, 1, 7, 4, 8, 3, 4, 5, 8, 1, 0, 7, 1, 2, 1, 1, 7, 7, 1, 6, 7, 2, 1, 8, 6, 5, 9, 9, 5, 2, 2, 1, 9, 6, 6, 5, 6, 8, 4, 0, 1, 1, 4, 7, 6, 5, 1, 9, 0, 2, 6, 4, 4, 0, 7, 8, 9, 1, 1, 6, 8, 2, 7, 9, 6, 0, 5, 3, 4, 7, 1, 2, 0, 1, 5, 1, 0, 3, 7, 7, 5, 8, 6, 3, 1, 4, 9, 1, 7, 2, 2, 8, 8, 3, 5, 6, 5, 7, 5, 2, 9, 1, 9, 0, 8, 3, 9, 6, 9, 9, 9, 0, 8, 8, 9, 2, 8, 2, 6, 6, 8, 8, 8, 8, 7, 9, 8, 3, 6, 9, 0, 3, 8, 8, 8, 4, 2, 7, 4, 3, 6, 1, 9, 0, 7, 8, 5, 3, 9, 6, 6, 8, 7, 5, 9, 9, 9, 9, 4, 3, 5, 3, 4, 1, 8, 7, 4, 4, 3, 0, 3, 2, 6, 7, 6, 3, 0, 8, 4, 0, 5, 8, 6, 4, 6, 3, 3, 4, 8, 4, 3, 9, 7, 8, 6, 7, 5, 3, 5, 3, 4, 4, 3, 8, 8, 3, 7, 1, 7, 1, 7, 6, 8, 8, 3, 8, 6, 1, 7, 0, 0, 7, 3, 5, 8, 8, 6, 0, 4, 7, 2, 7, 7, 8, 3, 1, 6, 3, 0, 7, 2, 6, 3, 2, 1, 7, 8, 6, 0, 9, 3, 5, 6, 0, 8, 8, 2, 0, 9, 9, 9, 4, 4, 7, 8, 4, 3, 7, 5, 1, 0, 1, 8, 7, 3, 6, 1, 4, 1, 1, 4, 7, 1, 2, 7, 7, 7, 5, 6, 5, 8, 0, 3, 2, 7, 9, 5, 7, 4, 7, 3, 7, 6, 8, 5, 0, 2, 9, 8, 1, 1, 1, 7, 1, 8, 7, 1, 6, 7, 5, 7, 9, 3, 8, 2, 6, 7, 3, 0, 1, 1, 6, 6, 4, 8, 3, 9, 6, 7, 4, 6, 7, 6, 9, 1, 0, 4, 1, 1, 7, 4, 3, 9, 9, 4, 5, 6, 9, 2, 2, 7, 0, 1, 3, 2, 2, 9, 0, 3, 0, 7, 5, 3, 8, 3, 5, 0, 1, 2, 7, 4, 0, 4, 4, 8, 3, 5, 7, 0, 3, 3, 8, 4, 0, 5, 6, 3, 4, 8, 1, 6, 7, 1, 3, 5, 1, 9, 9, 2, 6, 8, 1, 3, 6, 5, 8, 4, 8, 0, 0, 6, 2, 2, 9, 5, 5, 5, 1, 6, 0, 2, 4, 1, 1, 3, 2, 6, 7, 4, 5, 9, 5, 4, 6, 6, 4, 3, 1, 2, 3, 1, 5, 3, 3, 5, 3, 1, 5, 4, 8, 5, 4, 8, 3, 7, 3, 2, 1, 0, 5, 8, 4, 8, 5, 2, 2, 6, 4, 8, 0, 1, 2, 4, 7, 4, 2, 6, 4, 4, 0, 7, 7, 9, 7, 5, 4, 4, 3, 2, 8, 1, 1, 1, 4, 6, 5, 8, 4, 6, 8, 3, 0, 1, 8, 0, 8, 0, 7, 0, 6, 2, 2, 7, 8, 2, 9, 9, 5, 6, 3, 3, 0, 4, 8, 9, 4, 3, 9, 4, 5, 5, 7, 0, 8, 6, 2, 4, 6, 5, 7, 4, 7, 9, 9, 9, 7, 8, 7, 4, 1, 2, 2, 1, 7, 6, 9, 2, 9, 9, 2, 4, 3, 1, 4, 2, 6, 7, 0, 4, 9, 1, 8, 4, 5, 4, 9, 9, 6, 7, 5, 5, 2, 9, 6, 8, 8, 4, 3, 8, 1, 8, 8, 3, 3, 3, 9, 3, 4, 3, 8, 0, 7, 3, 5, 2, 2, 4, 3, 1, 1, 6, 0, 8, 8, 4, 7, 8, 6, 9, 8, 4, 8, 1, 0, 8, 0, 0, 7, 8, 8, 7, 1, 5, 9, 6, 7, 4, 0, 4, 3, 6, 5, 4, 8, 4, 3, 0, 8, 5, 7, 2, 4, 8, 1, 1, 8, 8, 7, 8, 6, 7, 6, 9, 1, 8, 1, 1, 7, 7, 8, 8, 9, 8, 5, 7, 3, 7, 7, 3, 7, 8, 4, 9, 3, 1, 9, 1, 8, 0, 7, 1, 1, 3, 3, 9, 6, 0, 3, 7, 1, 5, 1, 3, 3, 7, 2, 1, 2, 3, 6, 8, 1, 7, 8, 5, 3, 4, 5, 9]\n"
          ]
        }
      ]
    },
    {
      "cell_type": "code",
      "source": [
        "label_colors = ['b', 'g', 'r', 'c', 'm', 'y', 'k', 'purple', 'orange', 'gray']\n",
        "\n",
        "# Create a scatter plot with different colors for each label\n",
        "for i in range(len(labels)):\n",
        "    label = labels[i]\n",
        "    x = train_sample_embeddings[i, 0]\n",
        "    y = train_sample_embeddings[i, 1]\n",
        "    plt.scatter(x, y, c=label_colors[label])\n",
        "\n",
        "# Add a legend to the plot\n",
        "plt.legend(labels=[f'Label {i}' for i in range(10)], loc='upper left', bbox_to_anchor=(1, 1))\n",
        "\n",
        "# Show the scatter plot\n",
        "plt.show()\n"
      ],
      "metadata": {
        "colab": {
          "base_uri": "https://localhost:8080/",
          "height": 430
        },
        "id": "rnyBPhOmxjFM",
        "outputId": "d6011b4d-e20f-4205-d1f1-4a4ad7866b4a"
      },
      "execution_count": 302,
      "outputs": [
        {
          "output_type": "display_data",
          "data": {
            "text/plain": [
              "<Figure size 640x480 with 1 Axes>"
            ],
            "image/png": "[encoded data removed]"
          },
          "metadata": {}
        }
      ]
    },
    {
      "cell_type": "markdown",
      "source": [
        "##### Scatter Plot with K mean Clustering"
      ],
      "metadata": {
        "id": "hFc_p7gVW16b"
      }
    },
    {
      "cell_type": "code",
      "source": [
        "# Assuming train_sample_embeddings is a DataFrame or a 2D array\n",
        "data = train_sample_embeddings\n",
        "k_max = 11 # k for k mean clusturing\n",
        "wcss = []\n",
        "for i in range(1, k_max):\n",
        "    kmeans = KMeans(n_clusters = i, init = 'k-means++', random_state = 42)\n",
        "    kmeans.fit(train_sample_embeddings)\n",
        "    wcss.append(kmeans.inertia_)\n",
        "\n",
        "plt.plot(range(1, k_max), wcss)\n",
        "plt.xlabel('Number of clusters')\n",
        "plt.ylabel('WCSS')\n",
        "plt.show()"
      ],
      "metadata": {
        "colab": {
          "base_uri": "https://localhost:8080/",
          "height": 850
        },
        "id": "7KFAggO81Rr-",
        "outputId": "d2db7674-e500-4822-96e5-b917b8bcde0b"
      },
      "execution_count": 303,
      "outputs": [
        {
          "output_type": "stream",
          "name": "stderr",
          "text": [
            "/usr/local/lib/python3.10/dist-packages/sklearn/cluster/_kmeans.py:870: FutureWarning: The default value of `n_init` will change from 10 to 'auto' in 1.4. Set the value of `n_init` explicitly to suppress the warning\n",
            "  warnings.warn(\n",
            "/usr/local/lib/python3.10/dist-packages/sklearn/cluster/_kmeans.py:870: FutureWarning: The default value of `n_init` will change from 10 to 'auto' in 1.4. Set the value of `n_init` explicitly to suppress the warning\n",
            "  warnings.warn(\n",
            "/usr/local/lib/python3.10/dist-packages/sklearn/cluster/_kmeans.py:870: FutureWarning: The default value of `n_init` will change from 10 to 'auto' in 1.4. Set the value of `n_init` explicitly to suppress the warning\n",
            "  warnings.warn(\n",
            "/usr/local/lib/python3.10/dist-packages/sklearn/cluster/_kmeans.py:870: FutureWarning: The default value of `n_init` will change from 10 to 'auto' in 1.4. Set the value of `n_init` explicitly to suppress the warning\n",
            "  warnings.warn(\n",
            "/usr/local/lib/python3.10/dist-packages/sklearn/cluster/_kmeans.py:870: FutureWarning: The default value of `n_init` will change from 10 to 'auto' in 1.4. Set the value of `n_init` explicitly to suppress the warning\n",
            "  warnings.warn(\n",
            "/usr/local/lib/python3.10/dist-packages/sklearn/cluster/_kmeans.py:870: FutureWarning: The default value of `n_init` will change from 10 to 'auto' in 1.4. Set the value of `n_init` explicitly to suppress the warning\n",
            "  warnings.warn(\n",
            "/usr/local/lib/python3.10/dist-packages/sklearn/cluster/_kmeans.py:870: FutureWarning: The default value of `n_init` will change from 10 to 'auto' in 1.4. Set the value of `n_init` explicitly to suppress the warning\n",
            "  warnings.warn(\n",
            "/usr/local/lib/python3.10/dist-packages/sklearn/cluster/_kmeans.py:870: FutureWarning: The default value of `n_init` will change from 10 to 'auto' in 1.4. Set the value of `n_init` explicitly to suppress the warning\n",
            "  warnings.warn(\n",
            "/usr/local/lib/python3.10/dist-packages/sklearn/cluster/_kmeans.py:870: FutureWarning: The default value of `n_init` will change from 10 to 'auto' in 1.4. Set the value of `n_init` explicitly to suppress the warning\n",
            "  warnings.warn(\n",
            "/usr/local/lib/python3.10/dist-packages/sklearn/cluster/_kmeans.py:870: FutureWarning: The default value of `n_init` will change from 10 to 'auto' in 1.4. Set the value of `n_init` explicitly to suppress the warning\n",
            "  warnings.warn(\n"
          ]
        },
        {
          "output_type": "display_data",
          "data": {
            "text/plain": [
              "<Figure size 640x480 with 1 Axes>"
            ],
            "image/png": "[encoded data removed]"
          },
          "metadata": {}
        }
      ]
    },
    {
      "cell_type": "code",
      "source": [
        "kmeans = KMeans(n_clusters = 7, init = \"k-means++\", random_state = 42)\n",
        "y_kmeans = kmeans.fit_predict(train_sample_embeddings)"
      ],
      "metadata": {
        "colab": {
          "base_uri": "https://localhost:8080/"
        },
        "id": "KYWpX8u4WznM",
        "outputId": "2c631cc0-420c-4d89-b138-127891c742f0"
      },
      "execution_count": 304,
      "outputs": [
        {
          "output_type": "stream",
          "name": "stderr",
          "text": [
            "/usr/local/lib/python3.10/dist-packages/sklearn/cluster/_kmeans.py:870: FutureWarning: The default value of `n_init` will change from 10 to 'auto' in 1.4. Set the value of `n_init` explicitly to suppress the warning\n",
            "  warnings.warn(\n"
          ]
        }
      ]
    },
    {
      "cell_type": "code",
      "source": [
        "print(kmeans.cluster_centers_[:,:])\n",
        "print(y_kmeans)"
      ],
      "metadata": {
        "colab": {
          "base_uri": "https://localhost:8080/"
        },
        "id": "LsWcAi1lXJ1-",
        "outputId": "63ad125d-c911-4dd9-ae37-d8a5da8367c5"
      },
      "execution_count": 305,
      "outputs": [
        {
          "output_type": "stream",
          "name": "stdout",
          "text": [
            "[[-13.199175   25.589424 ]\n",
            " [-22.304619  -25.126806 ]\n",
            " [  3.6039288 -13.11155  ]\n",
            " [ 15.674953   10.547696 ]\n",
            " [-33.70029    -4.36276  ]\n",
            " [ 37.248875  -12.85623  ]\n",
            " [ 48.0952     17.87332  ]]\n",
            "[6 0 1 ... 1 2 3]\n"
          ]
        }
      ]
    },
    {
      "cell_type": "code",
      "source": [
        "import numpy as np\n",
        "import matplotlib.pyplot as plt\n",
        "\n",
        "# Cluster centers and labels\n",
        "centers = kmeans.cluster_centers_\n",
        "labels = y_kmeans\n",
        "\n",
        "# Set up colors for each cluster\n",
        "colors = ['r', 'g', 'b', 'k', 'y', 'purple', 'brown']\n",
        "\n",
        "# Create a scatter plot\n",
        "for i in range(len(centers)):\n",
        "    cluster_points = train_sample_embeddings[labels == i]  # Assuming X is your data\n",
        "    plt.scatter(cluster_points[:, 0], cluster_points[:, 1], c=colors[i], label=f'Cluster {i}')\n",
        "\n",
        "# Plot cluster centers\n",
        "plt.scatter(centers[:, 0], centers[:, 1], c='k', marker='X', s=100, label='Cluster Centers')\n",
        "\n",
        "# Customize the plot\n",
        "plt.xlabel('X-axis')\n",
        "plt.ylabel('Y-axis')\n",
        "plt.title('Cluster Centers and Centroids')\n",
        "plt.legend()\n",
        "\n",
        "# Show the plot\n",
        "plt.show()"
      ],
      "metadata": {
        "colab": {
          "base_uri": "https://localhost:8080/",
          "height": 472
        },
        "id": "YlfMqn8wXYXM",
        "outputId": "83e9d622-c916-4ec2-9a0e-bd9664d398ce"
      },
      "execution_count": 306,
      "outputs": [
        {
          "output_type": "display_data",
          "data": {
            "text/plain": [
              "<Figure size 640x480 with 1 Axes>"
            ],
            "image/png": "[encoded data removed]"
          },
          "metadata": {}
        }
      ]
    }
  ]
}